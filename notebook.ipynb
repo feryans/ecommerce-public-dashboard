{
  "cells": [
    {
      "cell_type": "markdown",
      "metadata": {
        "id": "TCc_jAfi0xOW"
      },
      "source": [
        "# Proyek Analisis Data: E Commerce Public Dataset\n",
        "- **Nama:** Muhammad Feryansyah\n",
        "- **Email:** feryansyahmuhammad888@gmail.com\n",
        "- **ID Dicoding:** feryans"
      ]
    },
    {
      "cell_type": "markdown",
      "metadata": {
        "id": "canzyQJ12IW0"
      },
      "source": [
        "## Menentukan Pertanyaan Bisnis"
      ]
    },
    {
      "cell_type": "markdown",
      "metadata": {
        "id": "l-30gaUz2Usd"
      },
      "source": [
        "- Pertanyaan 1: Bagaimana volume Penjualan pada E-Commerce Berdasarkan Jumlah Order dan Revenue?\n",
        "- Pertanyaan 2: Produk Apa saja yang memiliki performa penjualan terbaik dan terburuk?\n",
        "- Pertanyaan 3: Seller mana saja yang memiliki performa penjualan terbaik dan terburuk?\n",
        "- Pertanyaan 4: Kota mana saja yang memilki jumlah seller paling banyak?\n",
        "- Pertanyaan 5: Kota mana saja yang memiliki jumlah customer paling banyak?\n",
        "\n"
      ]
    },
    {
      "cell_type": "markdown",
      "metadata": {
        "id": "pE2Pv6ma2ZJd"
      },
      "source": [
        "## Import Semua Library dan Package yang Digunakan"
      ]
    },
    {
      "cell_type": "code",
      "execution_count": 1,
      "metadata": {
        "id": "rpxqZS152hDr"
      },
      "outputs": [],
      "source": [
        "import pandas as pd\n",
        "import datetime as dt\n",
        "import matplotlib.pyplot as plt\n",
        "import seaborn as sns\n",
        "from sklearn.preprocessing import StandardScaler\n"
      ]
    },
    {
      "cell_type": "markdown",
      "metadata": {
        "id": "YksvDH-T2lM5"
      },
      "source": [
        "## Data Wrangling"
      ]
    },
    {
      "cell_type": "markdown",
      "metadata": {
        "id": "UVXSSIQC2tUF"
      },
      "source": [
        "### Gathering Data"
      ]
    },
    {
      "cell_type": "code",
      "execution_count": 2,
      "metadata": {
        "colab": {
          "base_uri": "https://localhost:8080/",
          "height": 0
        },
        "id": "u02oRdKN2wYy",
        "outputId": "c949b24d-7835-4c48-f72f-3cfff6dac3ed"
      },
      "outputs": [
        {
          "data": {
            "text/html": [
              "<div>\n",
              "<style scoped>\n",
              "    .dataframe tbody tr th:only-of-type {\n",
              "        vertical-align: middle;\n",
              "    }\n",
              "\n",
              "    .dataframe tbody tr th {\n",
              "        vertical-align: top;\n",
              "    }\n",
              "\n",
              "    .dataframe thead th {\n",
              "        text-align: right;\n",
              "    }\n",
              "</style>\n",
              "<table border=\"1\" class=\"dataframe\">\n",
              "  <thead>\n",
              "    <tr style=\"text-align: right;\">\n",
              "      <th></th>\n",
              "      <th>customer_id</th>\n",
              "      <th>customer_unique_id</th>\n",
              "      <th>customer_zip_code_prefix</th>\n",
              "      <th>customer_city</th>\n",
              "      <th>customer_state</th>\n",
              "    </tr>\n",
              "  </thead>\n",
              "  <tbody>\n",
              "    <tr>\n",
              "      <th>0</th>\n",
              "      <td>06b8999e2fba1a1fbc88172c00ba8bc7</td>\n",
              "      <td>861eff4711a542e4b93843c6dd7febb0</td>\n",
              "      <td>14409</td>\n",
              "      <td>franca</td>\n",
              "      <td>SP</td>\n",
              "    </tr>\n",
              "    <tr>\n",
              "      <th>1</th>\n",
              "      <td>18955e83d337fd6b2def6b18a428ac77</td>\n",
              "      <td>290c77bc529b7ac935b93aa66c333dc3</td>\n",
              "      <td>9790</td>\n",
              "      <td>sao bernardo do campo</td>\n",
              "      <td>SP</td>\n",
              "    </tr>\n",
              "    <tr>\n",
              "      <th>2</th>\n",
              "      <td>4e7b3e00288586ebd08712fdd0374a03</td>\n",
              "      <td>060e732b5b29e8181a18229c7b0b2b5e</td>\n",
              "      <td>1151</td>\n",
              "      <td>sao paulo</td>\n",
              "      <td>SP</td>\n",
              "    </tr>\n",
              "    <tr>\n",
              "      <th>3</th>\n",
              "      <td>b2b6027bc5c5109e529d4dc6358b12c3</td>\n",
              "      <td>259dac757896d24d7702b9acbbff3f3c</td>\n",
              "      <td>8775</td>\n",
              "      <td>mogi das cruzes</td>\n",
              "      <td>SP</td>\n",
              "    </tr>\n",
              "    <tr>\n",
              "      <th>4</th>\n",
              "      <td>4f2d8ab171c80ec8364f7c12e35b23ad</td>\n",
              "      <td>345ecd01c38d18a9036ed96c73b8d066</td>\n",
              "      <td>13056</td>\n",
              "      <td>campinas</td>\n",
              "      <td>SP</td>\n",
              "    </tr>\n",
              "  </tbody>\n",
              "</table>\n",
              "</div>"
            ],
            "text/plain": [
              "                        customer_id                customer_unique_id  \\\n",
              "0  06b8999e2fba1a1fbc88172c00ba8bc7  861eff4711a542e4b93843c6dd7febb0   \n",
              "1  18955e83d337fd6b2def6b18a428ac77  290c77bc529b7ac935b93aa66c333dc3   \n",
              "2  4e7b3e00288586ebd08712fdd0374a03  060e732b5b29e8181a18229c7b0b2b5e   \n",
              "3  b2b6027bc5c5109e529d4dc6358b12c3  259dac757896d24d7702b9acbbff3f3c   \n",
              "4  4f2d8ab171c80ec8364f7c12e35b23ad  345ecd01c38d18a9036ed96c73b8d066   \n",
              "\n",
              "   customer_zip_code_prefix          customer_city customer_state  \n",
              "0                     14409                 franca             SP  \n",
              "1                      9790  sao bernardo do campo             SP  \n",
              "2                      1151              sao paulo             SP  \n",
              "3                      8775        mogi das cruzes             SP  \n",
              "4                     13056               campinas             SP  "
            ]
          },
          "execution_count": 2,
          "metadata": {},
          "output_type": "execute_result"
        }
      ],
      "source": [
        "customers_df = pd.read_csv('D:/Muhammad Feryansyah/submission/data/customers_dataset.csv')\n",
        "customers_df.head()\n"
      ]
    },
    {
      "cell_type": "code",
      "execution_count": 3,
      "metadata": {
        "colab": {
          "base_uri": "https://localhost:8080/",
          "height": 0
        },
        "id": "yDq1XD9dFZSO",
        "outputId": "19506a24-8fcc-4dc9-9d94-0bfb132aad0c"
      },
      "outputs": [
        {
          "data": {
            "text/html": [
              "<div>\n",
              "<style scoped>\n",
              "    .dataframe tbody tr th:only-of-type {\n",
              "        vertical-align: middle;\n",
              "    }\n",
              "\n",
              "    .dataframe tbody tr th {\n",
              "        vertical-align: top;\n",
              "    }\n",
              "\n",
              "    .dataframe thead th {\n",
              "        text-align: right;\n",
              "    }\n",
              "</style>\n",
              "<table border=\"1\" class=\"dataframe\">\n",
              "  <thead>\n",
              "    <tr style=\"text-align: right;\">\n",
              "      <th></th>\n",
              "      <th>order_id</th>\n",
              "      <th>order_item_id</th>\n",
              "      <th>product_id</th>\n",
              "      <th>seller_id</th>\n",
              "      <th>shipping_limit_date</th>\n",
              "      <th>price</th>\n",
              "      <th>freight_value</th>\n",
              "    </tr>\n",
              "  </thead>\n",
              "  <tbody>\n",
              "    <tr>\n",
              "      <th>0</th>\n",
              "      <td>00010242fe8c5a6d1ba2dd792cb16214</td>\n",
              "      <td>1</td>\n",
              "      <td>4244733e06e7ecb4970a6e2683c13e61</td>\n",
              "      <td>48436dade18ac8b2bce089ec2a041202</td>\n",
              "      <td>2017-09-19 09:45:35</td>\n",
              "      <td>58.90</td>\n",
              "      <td>13.29</td>\n",
              "    </tr>\n",
              "    <tr>\n",
              "      <th>1</th>\n",
              "      <td>00018f77f2f0320c557190d7a144bdd3</td>\n",
              "      <td>1</td>\n",
              "      <td>e5f2d52b802189ee658865ca93d83a8f</td>\n",
              "      <td>dd7ddc04e1b6c2c614352b383efe2d36</td>\n",
              "      <td>2017-05-03 11:05:13</td>\n",
              "      <td>239.90</td>\n",
              "      <td>19.93</td>\n",
              "    </tr>\n",
              "    <tr>\n",
              "      <th>2</th>\n",
              "      <td>000229ec398224ef6ca0657da4fc703e</td>\n",
              "      <td>1</td>\n",
              "      <td>c777355d18b72b67abbeef9df44fd0fd</td>\n",
              "      <td>5b51032eddd242adc84c38acab88f23d</td>\n",
              "      <td>2018-01-18 14:48:30</td>\n",
              "      <td>199.00</td>\n",
              "      <td>17.87</td>\n",
              "    </tr>\n",
              "    <tr>\n",
              "      <th>3</th>\n",
              "      <td>00024acbcdf0a6daa1e931b038114c75</td>\n",
              "      <td>1</td>\n",
              "      <td>7634da152a4610f1595efa32f14722fc</td>\n",
              "      <td>9d7a1d34a5052409006425275ba1c2b4</td>\n",
              "      <td>2018-08-15 10:10:18</td>\n",
              "      <td>12.99</td>\n",
              "      <td>12.79</td>\n",
              "    </tr>\n",
              "    <tr>\n",
              "      <th>4</th>\n",
              "      <td>00042b26cf59d7ce69dfabb4e55b4fd9</td>\n",
              "      <td>1</td>\n",
              "      <td>ac6c3623068f30de03045865e4e10089</td>\n",
              "      <td>df560393f3a51e74553ab94004ba5c87</td>\n",
              "      <td>2017-02-13 13:57:51</td>\n",
              "      <td>199.90</td>\n",
              "      <td>18.14</td>\n",
              "    </tr>\n",
              "  </tbody>\n",
              "</table>\n",
              "</div>"
            ],
            "text/plain": [
              "                           order_id  order_item_id  \\\n",
              "0  00010242fe8c5a6d1ba2dd792cb16214              1   \n",
              "1  00018f77f2f0320c557190d7a144bdd3              1   \n",
              "2  000229ec398224ef6ca0657da4fc703e              1   \n",
              "3  00024acbcdf0a6daa1e931b038114c75              1   \n",
              "4  00042b26cf59d7ce69dfabb4e55b4fd9              1   \n",
              "\n",
              "                         product_id                         seller_id  \\\n",
              "0  4244733e06e7ecb4970a6e2683c13e61  48436dade18ac8b2bce089ec2a041202   \n",
              "1  e5f2d52b802189ee658865ca93d83a8f  dd7ddc04e1b6c2c614352b383efe2d36   \n",
              "2  c777355d18b72b67abbeef9df44fd0fd  5b51032eddd242adc84c38acab88f23d   \n",
              "3  7634da152a4610f1595efa32f14722fc  9d7a1d34a5052409006425275ba1c2b4   \n",
              "4  ac6c3623068f30de03045865e4e10089  df560393f3a51e74553ab94004ba5c87   \n",
              "\n",
              "   shipping_limit_date   price  freight_value  \n",
              "0  2017-09-19 09:45:35   58.90          13.29  \n",
              "1  2017-05-03 11:05:13  239.90          19.93  \n",
              "2  2018-01-18 14:48:30  199.00          17.87  \n",
              "3  2018-08-15 10:10:18   12.99          12.79  \n",
              "4  2017-02-13 13:57:51  199.90          18.14  "
            ]
          },
          "execution_count": 3,
          "metadata": {},
          "output_type": "execute_result"
        }
      ],
      "source": [
        "\n",
        "order_items_df = pd.read_csv('D:/Muhammad Feryansyah/submission/data/order_items_dataset.csv')\n",
        "order_items_df.head()\n"
      ]
    },
    {
      "cell_type": "code",
      "execution_count": 4,
      "metadata": {
        "colab": {
          "base_uri": "https://localhost:8080/",
          "height": 0
        },
        "id": "UQkp-FgvFtz8",
        "outputId": "eb2ebcbc-2ea2-46ea-8559-679e4a155375"
      },
      "outputs": [
        {
          "data": {
            "text/html": [
              "<div>\n",
              "<style scoped>\n",
              "    .dataframe tbody tr th:only-of-type {\n",
              "        vertical-align: middle;\n",
              "    }\n",
              "\n",
              "    .dataframe tbody tr th {\n",
              "        vertical-align: top;\n",
              "    }\n",
              "\n",
              "    .dataframe thead th {\n",
              "        text-align: right;\n",
              "    }\n",
              "</style>\n",
              "<table border=\"1\" class=\"dataframe\">\n",
              "  <thead>\n",
              "    <tr style=\"text-align: right;\">\n",
              "      <th></th>\n",
              "      <th>review_id</th>\n",
              "      <th>order_id</th>\n",
              "      <th>review_score</th>\n",
              "      <th>review_comment_title</th>\n",
              "      <th>review_comment_message</th>\n",
              "      <th>review_creation_date</th>\n",
              "      <th>review_answer_timestamp</th>\n",
              "    </tr>\n",
              "  </thead>\n",
              "  <tbody>\n",
              "    <tr>\n",
              "      <th>0</th>\n",
              "      <td>7bc2406110b926393aa56f80a40eba40</td>\n",
              "      <td>73fc7af87114b39712e6da79b0a377eb</td>\n",
              "      <td>4</td>\n",
              "      <td>NaN</td>\n",
              "      <td>NaN</td>\n",
              "      <td>2018-01-18 00:00:00</td>\n",
              "      <td>2018-01-18 21:46:59</td>\n",
              "    </tr>\n",
              "    <tr>\n",
              "      <th>1</th>\n",
              "      <td>80e641a11e56f04c1ad469d5645fdfde</td>\n",
              "      <td>a548910a1c6147796b98fdf73dbeba33</td>\n",
              "      <td>5</td>\n",
              "      <td>NaN</td>\n",
              "      <td>NaN</td>\n",
              "      <td>2018-03-10 00:00:00</td>\n",
              "      <td>2018-03-11 03:05:13</td>\n",
              "    </tr>\n",
              "    <tr>\n",
              "      <th>2</th>\n",
              "      <td>228ce5500dc1d8e020d8d1322874b6f0</td>\n",
              "      <td>f9e4b658b201a9f2ecdecbb34bed034b</td>\n",
              "      <td>5</td>\n",
              "      <td>NaN</td>\n",
              "      <td>NaN</td>\n",
              "      <td>2018-02-17 00:00:00</td>\n",
              "      <td>2018-02-18 14:36:24</td>\n",
              "    </tr>\n",
              "    <tr>\n",
              "      <th>3</th>\n",
              "      <td>e64fb393e7b32834bb789ff8bb30750e</td>\n",
              "      <td>658677c97b385a9be170737859d3511b</td>\n",
              "      <td>5</td>\n",
              "      <td>NaN</td>\n",
              "      <td>Recebi bem antes do prazo estipulado.</td>\n",
              "      <td>2017-04-21 00:00:00</td>\n",
              "      <td>2017-04-21 22:02:06</td>\n",
              "    </tr>\n",
              "    <tr>\n",
              "      <th>4</th>\n",
              "      <td>f7c4243c7fe1938f181bec41a392bdeb</td>\n",
              "      <td>8e6bfb81e283fa7e4f11123a3fb894f1</td>\n",
              "      <td>5</td>\n",
              "      <td>NaN</td>\n",
              "      <td>Parabéns lojas lannister adorei comprar pela I...</td>\n",
              "      <td>2018-03-01 00:00:00</td>\n",
              "      <td>2018-03-02 10:26:53</td>\n",
              "    </tr>\n",
              "  </tbody>\n",
              "</table>\n",
              "</div>"
            ],
            "text/plain": [
              "                          review_id                          order_id  \\\n",
              "0  7bc2406110b926393aa56f80a40eba40  73fc7af87114b39712e6da79b0a377eb   \n",
              "1  80e641a11e56f04c1ad469d5645fdfde  a548910a1c6147796b98fdf73dbeba33   \n",
              "2  228ce5500dc1d8e020d8d1322874b6f0  f9e4b658b201a9f2ecdecbb34bed034b   \n",
              "3  e64fb393e7b32834bb789ff8bb30750e  658677c97b385a9be170737859d3511b   \n",
              "4  f7c4243c7fe1938f181bec41a392bdeb  8e6bfb81e283fa7e4f11123a3fb894f1   \n",
              "\n",
              "   review_score review_comment_title  \\\n",
              "0             4                  NaN   \n",
              "1             5                  NaN   \n",
              "2             5                  NaN   \n",
              "3             5                  NaN   \n",
              "4             5                  NaN   \n",
              "\n",
              "                              review_comment_message review_creation_date  \\\n",
              "0                                                NaN  2018-01-18 00:00:00   \n",
              "1                                                NaN  2018-03-10 00:00:00   \n",
              "2                                                NaN  2018-02-17 00:00:00   \n",
              "3              Recebi bem antes do prazo estipulado.  2017-04-21 00:00:00   \n",
              "4  Parabéns lojas lannister adorei comprar pela I...  2018-03-01 00:00:00   \n",
              "\n",
              "  review_answer_timestamp  \n",
              "0     2018-01-18 21:46:59  \n",
              "1     2018-03-11 03:05:13  \n",
              "2     2018-02-18 14:36:24  \n",
              "3     2017-04-21 22:02:06  \n",
              "4     2018-03-02 10:26:53  "
            ]
          },
          "execution_count": 4,
          "metadata": {},
          "output_type": "execute_result"
        }
      ],
      "source": [
        "\n",
        "order_reviews_df = pd.read_csv('D:/Muhammad Feryansyah/submission/data/order_reviews_dataset.csv')\n",
        "order_reviews_df.head()"
      ]
    },
    {
      "cell_type": "code",
      "execution_count": 5,
      "metadata": {
        "colab": {
          "base_uri": "https://localhost:8080/",
          "height": 0
        },
        "id": "FBGpPtJYFx9l",
        "outputId": "06b04fa1-cc8b-40ae-ea14-ae55ac999fe0"
      },
      "outputs": [
        {
          "data": {
            "text/html": [
              "<div>\n",
              "<style scoped>\n",
              "    .dataframe tbody tr th:only-of-type {\n",
              "        vertical-align: middle;\n",
              "    }\n",
              "\n",
              "    .dataframe tbody tr th {\n",
              "        vertical-align: top;\n",
              "    }\n",
              "\n",
              "    .dataframe thead th {\n",
              "        text-align: right;\n",
              "    }\n",
              "</style>\n",
              "<table border=\"1\" class=\"dataframe\">\n",
              "  <thead>\n",
              "    <tr style=\"text-align: right;\">\n",
              "      <th></th>\n",
              "      <th>order_id</th>\n",
              "      <th>customer_id</th>\n",
              "      <th>order_status</th>\n",
              "      <th>order_purchase_timestamp</th>\n",
              "      <th>order_approved_at</th>\n",
              "      <th>order_delivered_carrier_date</th>\n",
              "      <th>order_delivered_customer_date</th>\n",
              "      <th>order_estimated_delivery_date</th>\n",
              "    </tr>\n",
              "  </thead>\n",
              "  <tbody>\n",
              "    <tr>\n",
              "      <th>0</th>\n",
              "      <td>e481f51cbdc54678b7cc49136f2d6af7</td>\n",
              "      <td>9ef432eb6251297304e76186b10a928d</td>\n",
              "      <td>delivered</td>\n",
              "      <td>2017-10-02 10:56:33</td>\n",
              "      <td>2017-10-02 11:07:15</td>\n",
              "      <td>2017-10-04 19:55:00</td>\n",
              "      <td>2017-10-10 21:25:13</td>\n",
              "      <td>2017-10-18 00:00:00</td>\n",
              "    </tr>\n",
              "    <tr>\n",
              "      <th>1</th>\n",
              "      <td>53cdb2fc8bc7dce0b6741e2150273451</td>\n",
              "      <td>b0830fb4747a6c6d20dea0b8c802d7ef</td>\n",
              "      <td>delivered</td>\n",
              "      <td>2018-07-24 20:41:37</td>\n",
              "      <td>2018-07-26 03:24:27</td>\n",
              "      <td>2018-07-26 14:31:00</td>\n",
              "      <td>2018-08-07 15:27:45</td>\n",
              "      <td>2018-08-13 00:00:00</td>\n",
              "    </tr>\n",
              "    <tr>\n",
              "      <th>2</th>\n",
              "      <td>47770eb9100c2d0c44946d9cf07ec65d</td>\n",
              "      <td>41ce2a54c0b03bf3443c3d931a367089</td>\n",
              "      <td>delivered</td>\n",
              "      <td>2018-08-08 08:38:49</td>\n",
              "      <td>2018-08-08 08:55:23</td>\n",
              "      <td>2018-08-08 13:50:00</td>\n",
              "      <td>2018-08-17 18:06:29</td>\n",
              "      <td>2018-09-04 00:00:00</td>\n",
              "    </tr>\n",
              "    <tr>\n",
              "      <th>3</th>\n",
              "      <td>949d5b44dbf5de918fe9c16f97b45f8a</td>\n",
              "      <td>f88197465ea7920adcdbec7375364d82</td>\n",
              "      <td>delivered</td>\n",
              "      <td>2017-11-18 19:28:06</td>\n",
              "      <td>2017-11-18 19:45:59</td>\n",
              "      <td>2017-11-22 13:39:59</td>\n",
              "      <td>2017-12-02 00:28:42</td>\n",
              "      <td>2017-12-15 00:00:00</td>\n",
              "    </tr>\n",
              "    <tr>\n",
              "      <th>4</th>\n",
              "      <td>ad21c59c0840e6cb83a9ceb5573f8159</td>\n",
              "      <td>8ab97904e6daea8866dbdbc4fb7aad2c</td>\n",
              "      <td>delivered</td>\n",
              "      <td>2018-02-13 21:18:39</td>\n",
              "      <td>2018-02-13 22:20:29</td>\n",
              "      <td>2018-02-14 19:46:34</td>\n",
              "      <td>2018-02-16 18:17:02</td>\n",
              "      <td>2018-02-26 00:00:00</td>\n",
              "    </tr>\n",
              "  </tbody>\n",
              "</table>\n",
              "</div>"
            ],
            "text/plain": [
              "                           order_id                       customer_id  \\\n",
              "0  e481f51cbdc54678b7cc49136f2d6af7  9ef432eb6251297304e76186b10a928d   \n",
              "1  53cdb2fc8bc7dce0b6741e2150273451  b0830fb4747a6c6d20dea0b8c802d7ef   \n",
              "2  47770eb9100c2d0c44946d9cf07ec65d  41ce2a54c0b03bf3443c3d931a367089   \n",
              "3  949d5b44dbf5de918fe9c16f97b45f8a  f88197465ea7920adcdbec7375364d82   \n",
              "4  ad21c59c0840e6cb83a9ceb5573f8159  8ab97904e6daea8866dbdbc4fb7aad2c   \n",
              "\n",
              "  order_status order_purchase_timestamp    order_approved_at  \\\n",
              "0    delivered      2017-10-02 10:56:33  2017-10-02 11:07:15   \n",
              "1    delivered      2018-07-24 20:41:37  2018-07-26 03:24:27   \n",
              "2    delivered      2018-08-08 08:38:49  2018-08-08 08:55:23   \n",
              "3    delivered      2017-11-18 19:28:06  2017-11-18 19:45:59   \n",
              "4    delivered      2018-02-13 21:18:39  2018-02-13 22:20:29   \n",
              "\n",
              "  order_delivered_carrier_date order_delivered_customer_date  \\\n",
              "0          2017-10-04 19:55:00           2017-10-10 21:25:13   \n",
              "1          2018-07-26 14:31:00           2018-08-07 15:27:45   \n",
              "2          2018-08-08 13:50:00           2018-08-17 18:06:29   \n",
              "3          2017-11-22 13:39:59           2017-12-02 00:28:42   \n",
              "4          2018-02-14 19:46:34           2018-02-16 18:17:02   \n",
              "\n",
              "  order_estimated_delivery_date  \n",
              "0           2017-10-18 00:00:00  \n",
              "1           2018-08-13 00:00:00  \n",
              "2           2018-09-04 00:00:00  \n",
              "3           2017-12-15 00:00:00  \n",
              "4           2018-02-26 00:00:00  "
            ]
          },
          "execution_count": 5,
          "metadata": {},
          "output_type": "execute_result"
        }
      ],
      "source": [
        "\n",
        "orders_df = pd.read_csv('D:/Muhammad Feryansyah/submission/data/orders_dataset.csv')\n",
        "orders_df.head()"
      ]
    },
    {
      "cell_type": "code",
      "execution_count": 6,
      "metadata": {
        "colab": {
          "base_uri": "https://localhost:8080/",
          "height": 0
        },
        "id": "wMAH57LBF0xF",
        "outputId": "2901cde1-b957-4b85-cccf-173dc3325a37"
      },
      "outputs": [
        {
          "data": {
            "text/html": [
              "<div>\n",
              "<style scoped>\n",
              "    .dataframe tbody tr th:only-of-type {\n",
              "        vertical-align: middle;\n",
              "    }\n",
              "\n",
              "    .dataframe tbody tr th {\n",
              "        vertical-align: top;\n",
              "    }\n",
              "\n",
              "    .dataframe thead th {\n",
              "        text-align: right;\n",
              "    }\n",
              "</style>\n",
              "<table border=\"1\" class=\"dataframe\">\n",
              "  <thead>\n",
              "    <tr style=\"text-align: right;\">\n",
              "      <th></th>\n",
              "      <th>product_category_name</th>\n",
              "      <th>product_category_name_english</th>\n",
              "    </tr>\n",
              "  </thead>\n",
              "  <tbody>\n",
              "    <tr>\n",
              "      <th>0</th>\n",
              "      <td>beleza_saude</td>\n",
              "      <td>health_beauty</td>\n",
              "    </tr>\n",
              "    <tr>\n",
              "      <th>1</th>\n",
              "      <td>informatica_acessorios</td>\n",
              "      <td>computers_accessories</td>\n",
              "    </tr>\n",
              "    <tr>\n",
              "      <th>2</th>\n",
              "      <td>automotivo</td>\n",
              "      <td>auto</td>\n",
              "    </tr>\n",
              "    <tr>\n",
              "      <th>3</th>\n",
              "      <td>cama_mesa_banho</td>\n",
              "      <td>bed_bath_table</td>\n",
              "    </tr>\n",
              "    <tr>\n",
              "      <th>4</th>\n",
              "      <td>moveis_decoracao</td>\n",
              "      <td>furniture_decor</td>\n",
              "    </tr>\n",
              "  </tbody>\n",
              "</table>\n",
              "</div>"
            ],
            "text/plain": [
              "    product_category_name product_category_name_english\n",
              "0            beleza_saude                 health_beauty\n",
              "1  informatica_acessorios         computers_accessories\n",
              "2              automotivo                          auto\n",
              "3         cama_mesa_banho                bed_bath_table\n",
              "4        moveis_decoracao               furniture_decor"
            ]
          },
          "execution_count": 6,
          "metadata": {},
          "output_type": "execute_result"
        }
      ],
      "source": [
        "\n",
        "product_category_translation_df = pd.read_csv('D:/Muhammad Feryansyah/submission/data/product_category_name_translation.csv')\n",
        "product_category_translation_df.head()"
      ]
    },
    {
      "cell_type": "code",
      "execution_count": 7,
      "metadata": {
        "colab": {
          "base_uri": "https://localhost:8080/",
          "height": 0
        },
        "id": "EjpWnRpJF4U3",
        "outputId": "0a703e8d-e3f1-41b3-9338-71e05058f1b8"
      },
      "outputs": [
        {
          "data": {
            "text/html": [
              "<div>\n",
              "<style scoped>\n",
              "    .dataframe tbody tr th:only-of-type {\n",
              "        vertical-align: middle;\n",
              "    }\n",
              "\n",
              "    .dataframe tbody tr th {\n",
              "        vertical-align: top;\n",
              "    }\n",
              "\n",
              "    .dataframe thead th {\n",
              "        text-align: right;\n",
              "    }\n",
              "</style>\n",
              "<table border=\"1\" class=\"dataframe\">\n",
              "  <thead>\n",
              "    <tr style=\"text-align: right;\">\n",
              "      <th></th>\n",
              "      <th>product_id</th>\n",
              "      <th>product_category_name</th>\n",
              "      <th>product_name_lenght</th>\n",
              "      <th>product_description_lenght</th>\n",
              "      <th>product_photos_qty</th>\n",
              "      <th>product_weight_g</th>\n",
              "      <th>product_length_cm</th>\n",
              "      <th>product_height_cm</th>\n",
              "      <th>product_width_cm</th>\n",
              "    </tr>\n",
              "  </thead>\n",
              "  <tbody>\n",
              "    <tr>\n",
              "      <th>0</th>\n",
              "      <td>1e9e8ef04dbcff4541ed26657ea517e5</td>\n",
              "      <td>perfumaria</td>\n",
              "      <td>40.0</td>\n",
              "      <td>287.0</td>\n",
              "      <td>1.0</td>\n",
              "      <td>225.0</td>\n",
              "      <td>16.0</td>\n",
              "      <td>10.0</td>\n",
              "      <td>14.0</td>\n",
              "    </tr>\n",
              "    <tr>\n",
              "      <th>1</th>\n",
              "      <td>3aa071139cb16b67ca9e5dea641aaa2f</td>\n",
              "      <td>artes</td>\n",
              "      <td>44.0</td>\n",
              "      <td>276.0</td>\n",
              "      <td>1.0</td>\n",
              "      <td>1000.0</td>\n",
              "      <td>30.0</td>\n",
              "      <td>18.0</td>\n",
              "      <td>20.0</td>\n",
              "    </tr>\n",
              "    <tr>\n",
              "      <th>2</th>\n",
              "      <td>96bd76ec8810374ed1b65e291975717f</td>\n",
              "      <td>esporte_lazer</td>\n",
              "      <td>46.0</td>\n",
              "      <td>250.0</td>\n",
              "      <td>1.0</td>\n",
              "      <td>154.0</td>\n",
              "      <td>18.0</td>\n",
              "      <td>9.0</td>\n",
              "      <td>15.0</td>\n",
              "    </tr>\n",
              "    <tr>\n",
              "      <th>3</th>\n",
              "      <td>cef67bcfe19066a932b7673e239eb23d</td>\n",
              "      <td>bebes</td>\n",
              "      <td>27.0</td>\n",
              "      <td>261.0</td>\n",
              "      <td>1.0</td>\n",
              "      <td>371.0</td>\n",
              "      <td>26.0</td>\n",
              "      <td>4.0</td>\n",
              "      <td>26.0</td>\n",
              "    </tr>\n",
              "    <tr>\n",
              "      <th>4</th>\n",
              "      <td>9dc1a7de274444849c219cff195d0b71</td>\n",
              "      <td>utilidades_domesticas</td>\n",
              "      <td>37.0</td>\n",
              "      <td>402.0</td>\n",
              "      <td>4.0</td>\n",
              "      <td>625.0</td>\n",
              "      <td>20.0</td>\n",
              "      <td>17.0</td>\n",
              "      <td>13.0</td>\n",
              "    </tr>\n",
              "  </tbody>\n",
              "</table>\n",
              "</div>"
            ],
            "text/plain": [
              "                         product_id  product_category_name  \\\n",
              "0  1e9e8ef04dbcff4541ed26657ea517e5             perfumaria   \n",
              "1  3aa071139cb16b67ca9e5dea641aaa2f                  artes   \n",
              "2  96bd76ec8810374ed1b65e291975717f          esporte_lazer   \n",
              "3  cef67bcfe19066a932b7673e239eb23d                  bebes   \n",
              "4  9dc1a7de274444849c219cff195d0b71  utilidades_domesticas   \n",
              "\n",
              "   product_name_lenght  product_description_lenght  product_photos_qty  \\\n",
              "0                 40.0                       287.0                 1.0   \n",
              "1                 44.0                       276.0                 1.0   \n",
              "2                 46.0                       250.0                 1.0   \n",
              "3                 27.0                       261.0                 1.0   \n",
              "4                 37.0                       402.0                 4.0   \n",
              "\n",
              "   product_weight_g  product_length_cm  product_height_cm  product_width_cm  \n",
              "0             225.0               16.0               10.0              14.0  \n",
              "1            1000.0               30.0               18.0              20.0  \n",
              "2             154.0               18.0                9.0              15.0  \n",
              "3             371.0               26.0                4.0              26.0  \n",
              "4             625.0               20.0               17.0              13.0  "
            ]
          },
          "execution_count": 7,
          "metadata": {},
          "output_type": "execute_result"
        }
      ],
      "source": [
        "\n",
        "products_df = pd.read_csv('D:/Muhammad Feryansyah/submission/data/products_dataset.csv')\n",
        "products_df.head()"
      ]
    },
    {
      "cell_type": "code",
      "execution_count": 8,
      "metadata": {
        "colab": {
          "base_uri": "https://localhost:8080/",
          "height": 0
        },
        "id": "zIZRG68sF6-0",
        "outputId": "651f4235-336c-478f-f5ca-a75d2df68023"
      },
      "outputs": [
        {
          "name": "stdout",
          "output_type": "stream",
          "text": [
            "<class 'pandas.core.frame.DataFrame'>\n",
            "RangeIndex: 3095 entries, 0 to 3094\n",
            "Data columns (total 4 columns):\n",
            " #   Column                  Non-Null Count  Dtype \n",
            "---  ------                  --------------  ----- \n",
            " 0   seller_id               3095 non-null   object\n",
            " 1   seller_zip_code_prefix  3095 non-null   int64 \n",
            " 2   seller_city             3095 non-null   object\n",
            " 3   seller_state            3095 non-null   object\n",
            "dtypes: int64(1), object(3)\n",
            "memory usage: 96.8+ KB\n"
          ]
        }
      ],
      "source": [
        "\n",
        "sellers_df = pd.read_csv('D:/Muhammad Feryansyah/submission/data/sellers_dataset.csv')\n",
        "sellers_df.info()"
      ]
    },
    {
      "cell_type": "code",
      "execution_count": 9,
      "metadata": {
        "colab": {
          "base_uri": "https://localhost:8080/",
          "height": 0
        },
        "id": "6zp_d3eCF-a-",
        "outputId": "4f1726db-f987-4b64-acd1-a2e3884c1d12"
      },
      "outputs": [
        {
          "ename": "FileNotFoundError",
          "evalue": "[Errno 2] No such file or directory: 'D:/Muhammad Feryansyah/submission/data/geolocation_dataset.csv'",
          "output_type": "error",
          "traceback": [
            "\u001b[1;31m---------------------------------------------------------------------------\u001b[0m",
            "\u001b[1;31mFileNotFoundError\u001b[0m                         Traceback (most recent call last)",
            "Cell \u001b[1;32mIn[9], line 1\u001b[0m\n\u001b[1;32m----> 1\u001b[0m geolocation_df \u001b[38;5;241m=\u001b[39m \u001b[43mpd\u001b[49m\u001b[38;5;241;43m.\u001b[39;49m\u001b[43mread_csv\u001b[49m\u001b[43m(\u001b[49m\u001b[38;5;124;43m'\u001b[39;49m\u001b[38;5;124;43mD:/Muhammad Feryansyah/submission/data/geolocation_dataset.csv\u001b[39;49m\u001b[38;5;124;43m'\u001b[39;49m\u001b[43m)\u001b[49m\n\u001b[0;32m      2\u001b[0m geolocation_df\u001b[38;5;241m.\u001b[39mhead()\n",
            "File \u001b[1;32mc:\\Users\\erky\\AppData\\Local\\Programs\\Python\\Python312\\Lib\\site-packages\\pandas\\io\\parsers\\readers.py:1026\u001b[0m, in \u001b[0;36mread_csv\u001b[1;34m(filepath_or_buffer, sep, delimiter, header, names, index_col, usecols, dtype, engine, converters, true_values, false_values, skipinitialspace, skiprows, skipfooter, nrows, na_values, keep_default_na, na_filter, verbose, skip_blank_lines, parse_dates, infer_datetime_format, keep_date_col, date_parser, date_format, dayfirst, cache_dates, iterator, chunksize, compression, thousands, decimal, lineterminator, quotechar, quoting, doublequote, escapechar, comment, encoding, encoding_errors, dialect, on_bad_lines, delim_whitespace, low_memory, memory_map, float_precision, storage_options, dtype_backend)\u001b[0m\n\u001b[0;32m   1013\u001b[0m kwds_defaults \u001b[38;5;241m=\u001b[39m _refine_defaults_read(\n\u001b[0;32m   1014\u001b[0m     dialect,\n\u001b[0;32m   1015\u001b[0m     delimiter,\n\u001b[1;32m   (...)\u001b[0m\n\u001b[0;32m   1022\u001b[0m     dtype_backend\u001b[38;5;241m=\u001b[39mdtype_backend,\n\u001b[0;32m   1023\u001b[0m )\n\u001b[0;32m   1024\u001b[0m kwds\u001b[38;5;241m.\u001b[39mupdate(kwds_defaults)\n\u001b[1;32m-> 1026\u001b[0m \u001b[38;5;28;01mreturn\u001b[39;00m \u001b[43m_read\u001b[49m\u001b[43m(\u001b[49m\u001b[43mfilepath_or_buffer\u001b[49m\u001b[43m,\u001b[49m\u001b[43m \u001b[49m\u001b[43mkwds\u001b[49m\u001b[43m)\u001b[49m\n",
            "File \u001b[1;32mc:\\Users\\erky\\AppData\\Local\\Programs\\Python\\Python312\\Lib\\site-packages\\pandas\\io\\parsers\\readers.py:620\u001b[0m, in \u001b[0;36m_read\u001b[1;34m(filepath_or_buffer, kwds)\u001b[0m\n\u001b[0;32m    617\u001b[0m _validate_names(kwds\u001b[38;5;241m.\u001b[39mget(\u001b[38;5;124m\"\u001b[39m\u001b[38;5;124mnames\u001b[39m\u001b[38;5;124m\"\u001b[39m, \u001b[38;5;28;01mNone\u001b[39;00m))\n\u001b[0;32m    619\u001b[0m \u001b[38;5;66;03m# Create the parser.\u001b[39;00m\n\u001b[1;32m--> 620\u001b[0m parser \u001b[38;5;241m=\u001b[39m \u001b[43mTextFileReader\u001b[49m\u001b[43m(\u001b[49m\u001b[43mfilepath_or_buffer\u001b[49m\u001b[43m,\u001b[49m\u001b[43m \u001b[49m\u001b[38;5;241;43m*\u001b[39;49m\u001b[38;5;241;43m*\u001b[39;49m\u001b[43mkwds\u001b[49m\u001b[43m)\u001b[49m\n\u001b[0;32m    622\u001b[0m \u001b[38;5;28;01mif\u001b[39;00m chunksize \u001b[38;5;129;01mor\u001b[39;00m iterator:\n\u001b[0;32m    623\u001b[0m     \u001b[38;5;28;01mreturn\u001b[39;00m parser\n",
            "File \u001b[1;32mc:\\Users\\erky\\AppData\\Local\\Programs\\Python\\Python312\\Lib\\site-packages\\pandas\\io\\parsers\\readers.py:1620\u001b[0m, in \u001b[0;36mTextFileReader.__init__\u001b[1;34m(self, f, engine, **kwds)\u001b[0m\n\u001b[0;32m   1617\u001b[0m     \u001b[38;5;28mself\u001b[39m\u001b[38;5;241m.\u001b[39moptions[\u001b[38;5;124m\"\u001b[39m\u001b[38;5;124mhas_index_names\u001b[39m\u001b[38;5;124m\"\u001b[39m] \u001b[38;5;241m=\u001b[39m kwds[\u001b[38;5;124m\"\u001b[39m\u001b[38;5;124mhas_index_names\u001b[39m\u001b[38;5;124m\"\u001b[39m]\n\u001b[0;32m   1619\u001b[0m \u001b[38;5;28mself\u001b[39m\u001b[38;5;241m.\u001b[39mhandles: IOHandles \u001b[38;5;241m|\u001b[39m \u001b[38;5;28;01mNone\u001b[39;00m \u001b[38;5;241m=\u001b[39m \u001b[38;5;28;01mNone\u001b[39;00m\n\u001b[1;32m-> 1620\u001b[0m \u001b[38;5;28mself\u001b[39m\u001b[38;5;241m.\u001b[39m_engine \u001b[38;5;241m=\u001b[39m \u001b[38;5;28;43mself\u001b[39;49m\u001b[38;5;241;43m.\u001b[39;49m\u001b[43m_make_engine\u001b[49m\u001b[43m(\u001b[49m\u001b[43mf\u001b[49m\u001b[43m,\u001b[49m\u001b[43m \u001b[49m\u001b[38;5;28;43mself\u001b[39;49m\u001b[38;5;241;43m.\u001b[39;49m\u001b[43mengine\u001b[49m\u001b[43m)\u001b[49m\n",
            "File \u001b[1;32mc:\\Users\\erky\\AppData\\Local\\Programs\\Python\\Python312\\Lib\\site-packages\\pandas\\io\\parsers\\readers.py:1880\u001b[0m, in \u001b[0;36mTextFileReader._make_engine\u001b[1;34m(self, f, engine)\u001b[0m\n\u001b[0;32m   1878\u001b[0m     \u001b[38;5;28;01mif\u001b[39;00m \u001b[38;5;124m\"\u001b[39m\u001b[38;5;124mb\u001b[39m\u001b[38;5;124m\"\u001b[39m \u001b[38;5;129;01mnot\u001b[39;00m \u001b[38;5;129;01min\u001b[39;00m mode:\n\u001b[0;32m   1879\u001b[0m         mode \u001b[38;5;241m+\u001b[39m\u001b[38;5;241m=\u001b[39m \u001b[38;5;124m\"\u001b[39m\u001b[38;5;124mb\u001b[39m\u001b[38;5;124m\"\u001b[39m\n\u001b[1;32m-> 1880\u001b[0m \u001b[38;5;28mself\u001b[39m\u001b[38;5;241m.\u001b[39mhandles \u001b[38;5;241m=\u001b[39m \u001b[43mget_handle\u001b[49m\u001b[43m(\u001b[49m\n\u001b[0;32m   1881\u001b[0m \u001b[43m    \u001b[49m\u001b[43mf\u001b[49m\u001b[43m,\u001b[49m\n\u001b[0;32m   1882\u001b[0m \u001b[43m    \u001b[49m\u001b[43mmode\u001b[49m\u001b[43m,\u001b[49m\n\u001b[0;32m   1883\u001b[0m \u001b[43m    \u001b[49m\u001b[43mencoding\u001b[49m\u001b[38;5;241;43m=\u001b[39;49m\u001b[38;5;28;43mself\u001b[39;49m\u001b[38;5;241;43m.\u001b[39;49m\u001b[43moptions\u001b[49m\u001b[38;5;241;43m.\u001b[39;49m\u001b[43mget\u001b[49m\u001b[43m(\u001b[49m\u001b[38;5;124;43m\"\u001b[39;49m\u001b[38;5;124;43mencoding\u001b[39;49m\u001b[38;5;124;43m\"\u001b[39;49m\u001b[43m,\u001b[49m\u001b[43m \u001b[49m\u001b[38;5;28;43;01mNone\u001b[39;49;00m\u001b[43m)\u001b[49m\u001b[43m,\u001b[49m\n\u001b[0;32m   1884\u001b[0m \u001b[43m    \u001b[49m\u001b[43mcompression\u001b[49m\u001b[38;5;241;43m=\u001b[39;49m\u001b[38;5;28;43mself\u001b[39;49m\u001b[38;5;241;43m.\u001b[39;49m\u001b[43moptions\u001b[49m\u001b[38;5;241;43m.\u001b[39;49m\u001b[43mget\u001b[49m\u001b[43m(\u001b[49m\u001b[38;5;124;43m\"\u001b[39;49m\u001b[38;5;124;43mcompression\u001b[39;49m\u001b[38;5;124;43m\"\u001b[39;49m\u001b[43m,\u001b[49m\u001b[43m \u001b[49m\u001b[38;5;28;43;01mNone\u001b[39;49;00m\u001b[43m)\u001b[49m\u001b[43m,\u001b[49m\n\u001b[0;32m   1885\u001b[0m \u001b[43m    \u001b[49m\u001b[43mmemory_map\u001b[49m\u001b[38;5;241;43m=\u001b[39;49m\u001b[38;5;28;43mself\u001b[39;49m\u001b[38;5;241;43m.\u001b[39;49m\u001b[43moptions\u001b[49m\u001b[38;5;241;43m.\u001b[39;49m\u001b[43mget\u001b[49m\u001b[43m(\u001b[49m\u001b[38;5;124;43m\"\u001b[39;49m\u001b[38;5;124;43mmemory_map\u001b[39;49m\u001b[38;5;124;43m\"\u001b[39;49m\u001b[43m,\u001b[49m\u001b[43m \u001b[49m\u001b[38;5;28;43;01mFalse\u001b[39;49;00m\u001b[43m)\u001b[49m\u001b[43m,\u001b[49m\n\u001b[0;32m   1886\u001b[0m \u001b[43m    \u001b[49m\u001b[43mis_text\u001b[49m\u001b[38;5;241;43m=\u001b[39;49m\u001b[43mis_text\u001b[49m\u001b[43m,\u001b[49m\n\u001b[0;32m   1887\u001b[0m \u001b[43m    \u001b[49m\u001b[43merrors\u001b[49m\u001b[38;5;241;43m=\u001b[39;49m\u001b[38;5;28;43mself\u001b[39;49m\u001b[38;5;241;43m.\u001b[39;49m\u001b[43moptions\u001b[49m\u001b[38;5;241;43m.\u001b[39;49m\u001b[43mget\u001b[49m\u001b[43m(\u001b[49m\u001b[38;5;124;43m\"\u001b[39;49m\u001b[38;5;124;43mencoding_errors\u001b[39;49m\u001b[38;5;124;43m\"\u001b[39;49m\u001b[43m,\u001b[49m\u001b[43m \u001b[49m\u001b[38;5;124;43m\"\u001b[39;49m\u001b[38;5;124;43mstrict\u001b[39;49m\u001b[38;5;124;43m\"\u001b[39;49m\u001b[43m)\u001b[49m\u001b[43m,\u001b[49m\n\u001b[0;32m   1888\u001b[0m \u001b[43m    \u001b[49m\u001b[43mstorage_options\u001b[49m\u001b[38;5;241;43m=\u001b[39;49m\u001b[38;5;28;43mself\u001b[39;49m\u001b[38;5;241;43m.\u001b[39;49m\u001b[43moptions\u001b[49m\u001b[38;5;241;43m.\u001b[39;49m\u001b[43mget\u001b[49m\u001b[43m(\u001b[49m\u001b[38;5;124;43m\"\u001b[39;49m\u001b[38;5;124;43mstorage_options\u001b[39;49m\u001b[38;5;124;43m\"\u001b[39;49m\u001b[43m,\u001b[49m\u001b[43m \u001b[49m\u001b[38;5;28;43;01mNone\u001b[39;49;00m\u001b[43m)\u001b[49m\u001b[43m,\u001b[49m\n\u001b[0;32m   1889\u001b[0m \u001b[43m\u001b[49m\u001b[43m)\u001b[49m\n\u001b[0;32m   1890\u001b[0m \u001b[38;5;28;01massert\u001b[39;00m \u001b[38;5;28mself\u001b[39m\u001b[38;5;241m.\u001b[39mhandles \u001b[38;5;129;01mis\u001b[39;00m \u001b[38;5;129;01mnot\u001b[39;00m \u001b[38;5;28;01mNone\u001b[39;00m\n\u001b[0;32m   1891\u001b[0m f \u001b[38;5;241m=\u001b[39m \u001b[38;5;28mself\u001b[39m\u001b[38;5;241m.\u001b[39mhandles\u001b[38;5;241m.\u001b[39mhandle\n",
            "File \u001b[1;32mc:\\Users\\erky\\AppData\\Local\\Programs\\Python\\Python312\\Lib\\site-packages\\pandas\\io\\common.py:873\u001b[0m, in \u001b[0;36mget_handle\u001b[1;34m(path_or_buf, mode, encoding, compression, memory_map, is_text, errors, storage_options)\u001b[0m\n\u001b[0;32m    868\u001b[0m \u001b[38;5;28;01melif\u001b[39;00m \u001b[38;5;28misinstance\u001b[39m(handle, \u001b[38;5;28mstr\u001b[39m):\n\u001b[0;32m    869\u001b[0m     \u001b[38;5;66;03m# Check whether the filename is to be opened in binary mode.\u001b[39;00m\n\u001b[0;32m    870\u001b[0m     \u001b[38;5;66;03m# Binary mode does not support 'encoding' and 'newline'.\u001b[39;00m\n\u001b[0;32m    871\u001b[0m     \u001b[38;5;28;01mif\u001b[39;00m ioargs\u001b[38;5;241m.\u001b[39mencoding \u001b[38;5;129;01mand\u001b[39;00m \u001b[38;5;124m\"\u001b[39m\u001b[38;5;124mb\u001b[39m\u001b[38;5;124m\"\u001b[39m \u001b[38;5;129;01mnot\u001b[39;00m \u001b[38;5;129;01min\u001b[39;00m ioargs\u001b[38;5;241m.\u001b[39mmode:\n\u001b[0;32m    872\u001b[0m         \u001b[38;5;66;03m# Encoding\u001b[39;00m\n\u001b[1;32m--> 873\u001b[0m         handle \u001b[38;5;241m=\u001b[39m \u001b[38;5;28;43mopen\u001b[39;49m\u001b[43m(\u001b[49m\n\u001b[0;32m    874\u001b[0m \u001b[43m            \u001b[49m\u001b[43mhandle\u001b[49m\u001b[43m,\u001b[49m\n\u001b[0;32m    875\u001b[0m \u001b[43m            \u001b[49m\u001b[43mioargs\u001b[49m\u001b[38;5;241;43m.\u001b[39;49m\u001b[43mmode\u001b[49m\u001b[43m,\u001b[49m\n\u001b[0;32m    876\u001b[0m \u001b[43m            \u001b[49m\u001b[43mencoding\u001b[49m\u001b[38;5;241;43m=\u001b[39;49m\u001b[43mioargs\u001b[49m\u001b[38;5;241;43m.\u001b[39;49m\u001b[43mencoding\u001b[49m\u001b[43m,\u001b[49m\n\u001b[0;32m    877\u001b[0m \u001b[43m            \u001b[49m\u001b[43merrors\u001b[49m\u001b[38;5;241;43m=\u001b[39;49m\u001b[43merrors\u001b[49m\u001b[43m,\u001b[49m\n\u001b[0;32m    878\u001b[0m \u001b[43m            \u001b[49m\u001b[43mnewline\u001b[49m\u001b[38;5;241;43m=\u001b[39;49m\u001b[38;5;124;43m\"\u001b[39;49m\u001b[38;5;124;43m\"\u001b[39;49m\u001b[43m,\u001b[49m\n\u001b[0;32m    879\u001b[0m \u001b[43m        \u001b[49m\u001b[43m)\u001b[49m\n\u001b[0;32m    880\u001b[0m     \u001b[38;5;28;01melse\u001b[39;00m:\n\u001b[0;32m    881\u001b[0m         \u001b[38;5;66;03m# Binary mode\u001b[39;00m\n\u001b[0;32m    882\u001b[0m         handle \u001b[38;5;241m=\u001b[39m \u001b[38;5;28mopen\u001b[39m(handle, ioargs\u001b[38;5;241m.\u001b[39mmode)\n",
            "\u001b[1;31mFileNotFoundError\u001b[0m: [Errno 2] No such file or directory: 'D:/Muhammad Feryansyah/submission/data/geolocation_dataset.csv'"
          ]
        }
      ],
      "source": [
        "\n",
        "geolocation_df = pd.read_csv('D:/Muhammad Feryansyah/submission/data/geolocation_dataset.csv')\n",
        "geolocation_df.head()"
      ]
    },
    {
      "cell_type": "code",
      "execution_count": null,
      "metadata": {
        "colab": {
          "base_uri": "https://localhost:8080/",
          "height": 0
        },
        "id": "AI3l9WKNGUOO",
        "outputId": "19770fc5-7d3c-45a6-a544-264a53f43622"
      },
      "outputs": [],
      "source": [
        "# Dataframes\n",
        "\n",
        "customers_df\n",
        "order_items_df\n",
        "order_reviews_df\n",
        "orders_df\n",
        "product_category_translation_df\n",
        "products_df\n",
        "sellers_df"
      ]
    },
    {
      "cell_type": "markdown",
      "metadata": {
        "id": "OW4Pz4HE2wyo"
      },
      "source": [
        "### Assesing Data"
      ]
    },
    {
      "cell_type": "markdown",
      "metadata": {
        "id": "_HPPKIrGHEu3"
      },
      "source": [
        "#### 1. Customers Dataframe"
      ]
    },
    {
      "cell_type": "code",
      "execution_count": null,
      "metadata": {
        "colab": {
          "base_uri": "https://localhost:8080/"
        },
        "id": "GLRxYW8P2z1F",
        "outputId": "c22529fe-efb4-4994-e293-0d71e2be9297"
      },
      "outputs": [],
      "source": [
        "customers_df.info()"
      ]
    },
    {
      "cell_type": "code",
      "execution_count": null,
      "metadata": {
        "colab": {
          "base_uri": "https://localhost:8080/"
        },
        "id": "iY3SDgzTHedo",
        "outputId": "0f7357b5-c144-4c34-ab6e-8480651a8783"
      },
      "outputs": [],
      "source": [
        "customers_df.duplicated().sum()"
      ]
    },
    {
      "cell_type": "code",
      "execution_count": null,
      "metadata": {
        "colab": {
          "base_uri": "https://localhost:8080/"
        },
        "id": "Pyf8eAcAHsEG",
        "outputId": "20b33081-7e77-44af-f838-482541227922"
      },
      "outputs": [],
      "source": [
        "customers_df.isnull().sum()"
      ]
    },
    {
      "cell_type": "code",
      "execution_count": null,
      "metadata": {
        "colab": {
          "base_uri": "https://localhost:8080/",
          "height": 0
        },
        "id": "lxfQO4svHzIA",
        "outputId": "e9a3b417-d0d5-4c2b-fe4f-1905eab8765e"
      },
      "outputs": [],
      "source": [
        "customers_df.describe()"
      ]
    },
    {
      "cell_type": "markdown",
      "metadata": {
        "id": "oPP4q7bYIBIB"
      },
      "source": [
        "Problems in customers_df: 0"
      ]
    },
    {
      "cell_type": "markdown",
      "metadata": {
        "id": "z_Xon6UVIMo9"
      },
      "source": [
        "#### 2. Order Items Dataframe"
      ]
    },
    {
      "cell_type": "code",
      "execution_count": null,
      "metadata": {
        "colab": {
          "base_uri": "https://localhost:8080/"
        },
        "id": "Oq6Zuva2IT-K",
        "outputId": "3a88b65c-750b-43b3-81cc-f2e39453020b"
      },
      "outputs": [],
      "source": [
        "order_items_df.info()"
      ]
    },
    {
      "cell_type": "code",
      "execution_count": null,
      "metadata": {
        "colab": {
          "base_uri": "https://localhost:8080/"
        },
        "id": "rG8rShHrIqoc",
        "outputId": "03d74292-5996-431c-90ea-50a60ad1cd69"
      },
      "outputs": [],
      "source": [
        "order_items_df.isna().sum()"
      ]
    },
    {
      "cell_type": "code",
      "execution_count": null,
      "metadata": {
        "colab": {
          "base_uri": "https://localhost:8080/"
        },
        "id": "tCAX40-9IxI_",
        "outputId": "ba7d7758-fc18-423d-830e-ff608d8b2342"
      },
      "outputs": [],
      "source": [
        "order_items_df.duplicated().sum()"
      ]
    },
    {
      "cell_type": "code",
      "execution_count": null,
      "metadata": {
        "colab": {
          "base_uri": "https://localhost:8080/",
          "height": 0
        },
        "id": "fWql-IG2I3_S",
        "outputId": "40a00a8d-ef5b-4272-870e-3b71f0c6f4ae"
      },
      "outputs": [],
      "source": [
        "order_items_df.describe()"
      ]
    },
    {
      "cell_type": "markdown",
      "metadata": {
        "id": "fz_ra-RaJghL"
      },
      "source": [
        "Problems in order_items_df:\n",
        "1. shipping_limit_date column has type object instead of datetime (Done)"
      ]
    },
    {
      "cell_type": "markdown",
      "metadata": {
        "id": "4hljzj01K5mt"
      },
      "source": [
        "#### 3. Order Reviews Dataframe"
      ]
    },
    {
      "cell_type": "code",
      "execution_count": null,
      "metadata": {
        "colab": {
          "base_uri": "https://localhost:8080/"
        },
        "id": "jwfbv63ELBrk",
        "outputId": "e9a6aaa8-692c-4517-de37-7f0abed6fda8"
      },
      "outputs": [],
      "source": [
        "order_reviews_df.info()"
      ]
    },
    {
      "cell_type": "code",
      "execution_count": null,
      "metadata": {
        "colab": {
          "base_uri": "https://localhost:8080/"
        },
        "id": "q0Lohw7yL5k6",
        "outputId": "cfad8472-c5d9-480d-e164-bf57e580a682"
      },
      "outputs": [],
      "source": [
        "order_reviews_df.isnull().sum()"
      ]
    },
    {
      "cell_type": "code",
      "execution_count": null,
      "metadata": {
        "colab": {
          "base_uri": "https://localhost:8080/"
        },
        "id": "YQlDFds1MZPU",
        "outputId": "b83ebc3b-bc1b-4c34-938d-7637e5a94024"
      },
      "outputs": [],
      "source": [
        "order_reviews_df.duplicated().sum()"
      ]
    },
    {
      "cell_type": "code",
      "execution_count": null,
      "metadata": {
        "colab": {
          "base_uri": "https://localhost:8080/",
          "height": 0
        },
        "id": "9kTVYHwSMfJk",
        "outputId": "7eb37f4a-b442-4926-826e-69518b4512f8"
      },
      "outputs": [],
      "source": [
        "order_reviews_df.describe()"
      ]
    },
    {
      "cell_type": "markdown",
      "metadata": {
        "id": "ygdm8Cm9Lc6X"
      },
      "source": [
        "Problems in order_reviews_df:\n",
        "\n",
        "1.    review_creation_date column has type object instead of datetime (Done)\n",
        "2.   review_answer_timestamp column has type object instead of datetime (Done)\n",
        "3. review_comment_title\tcolumn has 87656 missing values (Ignored)\n",
        "4. review_comment_message column has\t58247 mising valuues (Ignored)\n",
        "\n",
        "\n",
        "\n"
      ]
    },
    {
      "cell_type": "markdown",
      "metadata": {
        "id": "JXQu3gwXMtm8"
      },
      "source": [
        "#### 4. Orders Dataframe"
      ]
    },
    {
      "cell_type": "code",
      "execution_count": null,
      "metadata": {
        "colab": {
          "base_uri": "https://localhost:8080/"
        },
        "id": "D_Mq3lvLMxWV",
        "outputId": "96e9f4d7-4f6e-4267-b336-5e051eec8efb"
      },
      "outputs": [],
      "source": [
        "orders_df.info()"
      ]
    },
    {
      "cell_type": "code",
      "execution_count": null,
      "metadata": {
        "colab": {
          "base_uri": "https://localhost:8080/"
        },
        "id": "pXNVOKAhN3-h",
        "outputId": "8162c713-f1d6-4f46-bad2-04df32da52e3"
      },
      "outputs": [],
      "source": [
        "orders_df.isnull().sum()"
      ]
    },
    {
      "cell_type": "code",
      "execution_count": null,
      "metadata": {
        "colab": {
          "base_uri": "https://localhost:8080/"
        },
        "id": "liLBMtgjOD_T",
        "outputId": "95e6a716-36c3-4df3-fd56-afac91239a8e"
      },
      "outputs": [],
      "source": [
        "orders_df.duplicated().sum()"
      ]
    },
    {
      "cell_type": "code",
      "execution_count": null,
      "metadata": {
        "colab": {
          "base_uri": "https://localhost:8080/",
          "height": 0
        },
        "id": "L5xqqBjkOIZW",
        "outputId": "381c8599-9c19-44b3-e198-b5aca10d485a"
      },
      "outputs": [],
      "source": [
        "orders_df.describe(include='all')"
      ]
    },
    {
      "cell_type": "markdown",
      "metadata": {
        "id": "lEZp4DntOgCP"
      },
      "source": [
        "Problems in orders_df:\n",
        "1. order_approved_at\tcolumn has 160 missing values (done)\n",
        "2. order_delivered_carrier_date\tcolumn has 1783 missing values (done)\n",
        "3. order_delivered_customer_date column has\t2965 missing values (done)\n",
        "4. order_purchase_timestamp\tcolumn has type object instead of datetime (done)\n",
        "5. order_approved_at\tcolumn has type object instead of datetime (done)\n",
        "6. order_delivered_carrier_date column has type object instead of datetime (done)\n",
        "7. order_delivered_customer_date column has type object instead of datetime (done)\n",
        "8. order_estimated_delivery_date column has type object instead of datetime (done)"
      ]
    },
    {
      "cell_type": "markdown",
      "metadata": {
        "id": "zxK7gGolP3-K"
      },
      "source": [
        "#### 5. Product Category Translation Dataframe"
      ]
    },
    {
      "cell_type": "code",
      "execution_count": null,
      "metadata": {
        "colab": {
          "base_uri": "https://localhost:8080/"
        },
        "id": "aW2fePtbP-vH",
        "outputId": "08d6dbcd-6234-4581-a7ba-247f607205c5"
      },
      "outputs": [],
      "source": [
        "product_category_translation_df.info()"
      ]
    },
    {
      "cell_type": "code",
      "execution_count": null,
      "metadata": {
        "colab": {
          "base_uri": "https://localhost:8080/"
        },
        "id": "n95E0eLQQEag",
        "outputId": "6e5a293d-725b-4c2a-d195-ea079ef97d2d"
      },
      "outputs": [],
      "source": [
        "product_category_translation_df.duplicated().sum()"
      ]
    },
    {
      "cell_type": "markdown",
      "metadata": {
        "id": "NpABsPv6QTM3"
      },
      "source": [
        "Problems in product_category_translation_df: 0"
      ]
    },
    {
      "cell_type": "markdown",
      "metadata": {
        "id": "CAloG1IQQdLT"
      },
      "source": [
        "#### 6. Products Dataframe"
      ]
    },
    {
      "cell_type": "code",
      "execution_count": null,
      "metadata": {
        "colab": {
          "base_uri": "https://localhost:8080/"
        },
        "id": "amP-dwgOQcv_",
        "outputId": "2415b9aa-2419-4889-c690-aa0fb10a2ffd"
      },
      "outputs": [],
      "source": [
        "products_df.info()"
      ]
    },
    {
      "cell_type": "code",
      "execution_count": null,
      "metadata": {
        "colab": {
          "base_uri": "https://localhost:8080/",
          "height": 0
        },
        "id": "8XDKuOtRPy-8",
        "outputId": "97f772ed-31aa-4ced-9ca9-b78061114574"
      },
      "outputs": [],
      "source": [
        "products_df.head()"
      ]
    },
    {
      "cell_type": "code",
      "execution_count": null,
      "metadata": {
        "colab": {
          "base_uri": "https://localhost:8080/"
        },
        "id": "Y_odi-dRQrsJ",
        "outputId": "39cf37e6-1384-4cbd-a5ed-28b01669defa"
      },
      "outputs": [],
      "source": [
        "products_df.isnull().sum()"
      ]
    },
    {
      "cell_type": "code",
      "execution_count": null,
      "metadata": {
        "colab": {
          "base_uri": "https://localhost:8080/"
        },
        "id": "SmU5eeH4RUKN",
        "outputId": "86c85a7f-b3a1-4d69-a06d-260cfb816442"
      },
      "outputs": [],
      "source": [
        "products_df.duplicated().sum()"
      ]
    },
    {
      "cell_type": "code",
      "execution_count": null,
      "metadata": {
        "colab": {
          "base_uri": "https://localhost:8080/",
          "height": 0
        },
        "id": "rzpPwD32RhFI",
        "outputId": "4a97b193-148c-4bcd-e4e3-e36a0b9aca3e"
      },
      "outputs": [],
      "source": [
        "products_df.describe(include='all')"
      ]
    },
    {
      "cell_type": "code",
      "execution_count": null,
      "metadata": {
        "colab": {
          "base_uri": "https://localhost:8080/",
          "height": 0
        },
        "id": "FQwmffxYRxFT",
        "outputId": "5fae5016-f223-469f-90cf-e7e34eb0ebdc"
      },
      "outputs": [],
      "source": [
        "products_df[products_df.product_category_name =='0082684bb4a60a862baaf7a60a5845ed']"
      ]
    },
    {
      "cell_type": "code",
      "execution_count": null,
      "metadata": {
        "colab": {
          "base_uri": "https://localhost:8080/",
          "height": 0
        },
        "id": "nlwxrqmMSB3y",
        "outputId": "9fa18751-2f11-447a-96b1-6ee9dea35abe"
      },
      "outputs": [],
      "source": [
        "product_category_translation_df[product_category_translation_df.product_category_name == 'cama_mesa_banho']"
      ]
    },
    {
      "cell_type": "markdown",
      "metadata": {
        "id": "RNbX0cd9QykO"
      },
      "source": [
        "Problems in products_df:\n",
        "1. product_category_name column\thas 610 miisingvalues (done)\n",
        "2. product_name_lenght\tcolumn has 610 missingvalues (done)\n",
        "3. product_description_lenght\tcolumn has 610 missingvalues (done)\n",
        "4. product_photos_qty\tcolumn has 610 missingvalues (done)\n",
        "5. product_weight_g\tcolumn has 2 missingvalues (done)\n",
        "6. product_length_cm\tcolumn has 2 missingvalues (done)\n",
        "7. product_height_cm\tcolumn has 2 missingvalues (done)\n",
        "8. product_width_cm\tcolumn has 2 missingvalues (done)"
      ]
    },
    {
      "cell_type": "markdown",
      "metadata": {
        "id": "gNxD8LyHSiJB"
      },
      "source": [
        "#### 7. Sellers Dataframe"
      ]
    },
    {
      "cell_type": "code",
      "execution_count": null,
      "metadata": {
        "colab": {
          "base_uri": "https://localhost:8080/"
        },
        "id": "e0QHVeVySmp6",
        "outputId": "9113dba0-8ce5-4018-cc37-4187caccfea8"
      },
      "outputs": [],
      "source": [
        "sellers_df.info()"
      ]
    },
    {
      "cell_type": "code",
      "execution_count": null,
      "metadata": {
        "colab": {
          "base_uri": "https://localhost:8080/"
        },
        "id": "onrhvX_ASrel",
        "outputId": "aa7e57d7-826d-4b82-c936-02a9027b7eab"
      },
      "outputs": [],
      "source": [
        "sellers_df.isnull().sum()"
      ]
    },
    {
      "cell_type": "code",
      "execution_count": null,
      "metadata": {
        "colab": {
          "base_uri": "https://localhost:8080/"
        },
        "id": "7oZgtpAGSwwc",
        "outputId": "bdf3abe0-0834-4b31-e697-cbea752b712b"
      },
      "outputs": [],
      "source": [
        "sellers_df.duplicated().sum()"
      ]
    },
    {
      "cell_type": "markdown",
      "metadata": {
        "id": "NDJToxFCS5SH"
      },
      "source": [
        "Problems in orders_df: 0"
      ]
    },
    {
      "cell_type": "markdown",
      "metadata": {
        "id": "mw9PlWAG20U4"
      },
      "source": [
        "### Cleaning Data"
      ]
    },
    {
      "cell_type": "markdown",
      "metadata": {
        "id": "i9cf6zRZUlBj"
      },
      "source": [
        "#### 1. Order Items Dataframe"
      ]
    },
    {
      "cell_type": "code",
      "execution_count": null,
      "metadata": {
        "id": "J-uXZ8Vs23xP"
      },
      "outputs": [],
      "source": [
        "order_items_df['shipping_limit_date'] = pd.to_datetime(order_items_df['shipping_limit_date'])"
      ]
    },
    {
      "cell_type": "markdown",
      "metadata": {
        "id": "HWDpOzcgV7Ut"
      },
      "source": [
        "#### 2. Order Reviews Dataframe"
      ]
    },
    {
      "cell_type": "code",
      "execution_count": null,
      "metadata": {
        "id": "0vKzJiHzWBTM"
      },
      "outputs": [],
      "source": [
        "datetime_columns = ['review_creation_date', 'review_answer_timestamp'\t]\n",
        "\n",
        "for column in datetime_columns:\n",
        "  order_reviews_df[column] = pd.to_datetime(order_reviews_df[column])"
      ]
    },
    {
      "cell_type": "code",
      "execution_count": null,
      "metadata": {
        "colab": {
          "base_uri": "https://localhost:8080/",
          "height": 0
        },
        "id": "sKt3AgVnWzqi",
        "outputId": "487ca583-8951-45cc-b06d-9b4e652a7fc3"
      },
      "outputs": [],
      "source": [
        "missingvalues_columns = ['review_comment_title', 'review_comment_message']\n",
        "\n",
        "order_reviews_df[order_reviews_df.review_comment_title.isnull()]"
      ]
    },
    {
      "cell_type": "markdown",
      "metadata": {
        "id": "yqtMJ_p7YHQn"
      },
      "source": [
        "#### 3. Orders Dataframe"
      ]
    },
    {
      "cell_type": "code",
      "execution_count": null,
      "metadata": {
        "id": "XUqZwJwpZ2vR"
      },
      "outputs": [],
      "source": [
        "datetime_columns =[ 'order_purchase_timestamp', 'order_approved_at', 'order_delivered_carrier_date', 'order_delivered_customer_date', 'order_estimated_delivery_date']\n",
        "\n",
        "for column in datetime_columns:\n",
        "  orders_df[column] = pd.to_datetime(orders_df[column])"
      ]
    },
    {
      "cell_type": "code",
      "execution_count": null,
      "metadata": {
        "colab": {
          "base_uri": "https://localhost:8080/",
          "height": 0
        },
        "id": "OIiav-mHYK9q",
        "outputId": "d8990b5e-9cf9-4d42-ae70-e37733bad4af"
      },
      "outputs": [],
      "source": [
        "missingvalues_columns =['order_approved_at','order_delivered_carrier_date', 'order_delivered_customer_date']\n",
        "\n",
        "orders_df[orders_df.order_approved_at.isnull()]"
      ]
    },
    {
      "cell_type": "code",
      "execution_count": null,
      "metadata": {
        "colab": {
          "base_uri": "https://localhost:8080/",
          "height": 0
        },
        "id": "qmiscb32bAug",
        "outputId": "f6521e83-ff8c-4aa7-dbf0-f461c0de3945"
      },
      "outputs": [],
      "source": [
        "orders_df[orders_df.order_delivered_carrier_date.isnull()]"
      ]
    },
    {
      "cell_type": "code",
      "execution_count": null,
      "metadata": {
        "colab": {
          "base_uri": "https://localhost:8080/",
          "height": 0
        },
        "id": "9qZZlj7jcBw-",
        "outputId": "685bf7d1-a5b1-494a-9f6a-a34b64ddf046"
      },
      "outputs": [],
      "source": [
        "orders_df[orders_df.order_delivered_customer_date.isnull()]"
      ]
    },
    {
      "cell_type": "code",
      "execution_count": null,
      "metadata": {
        "id": "wv7CIkc1Zm8s"
      },
      "outputs": [],
      "source": [
        "\n",
        "for column in missingvalues_columns:\n",
        "  orders_df[column].interpolate(\n",
        "      how='linear',\n",
        "      limit_directon='both',\n",
        "      inplace=True\n",
        "  )"
      ]
    },
    {
      "cell_type": "markdown",
      "metadata": {
        "id": "lGBFLZ8eMaiX"
      },
      "source": [
        "#### 4. Products Dataframe"
      ]
    },
    {
      "cell_type": "code",
      "execution_count": null,
      "metadata": {
        "colab": {
          "base_uri": "https://localhost:8080/",
          "height": 0
        },
        "id": "Hr0GOCw9OYSz",
        "outputId": "655592ff-c6b7-4185-8bb2-8a4ed03703f1"
      },
      "outputs": [],
      "source": [
        "missingvalues_columns = ['product_category_name', 'product_name_lenght', 'product_description_lenght', 'product_photos_qty', 'product_weight_g', 'product_length_cm', 'product_height_cm', 'product_width_cm']\n",
        "\n",
        "products_df[products_df.product_category_name.isnull()]"
      ]
    },
    {
      "cell_type": "code",
      "execution_count": null,
      "metadata": {
        "id": "GjJnjK2tPIoV"
      },
      "outputs": [],
      "source": [
        "products_df = products_df.dropna()"
      ]
    },
    {
      "cell_type": "markdown",
      "metadata": {
        "id": "54XxZ9NA24gG"
      },
      "source": [
        "## Exploratory Data Analysis (EDA)"
      ]
    },
    {
      "cell_type": "markdown",
      "metadata": {
        "id": "vaoSkz273X7c"
      },
      "source": [
        "### Explore..."
      ]
    },
    {
      "cell_type": "code",
      "execution_count": null,
      "metadata": {
        "colab": {
          "base_uri": "https://localhost:8080/",
          "height": 81
        },
        "id": "fxgfn-fLhIF6",
        "outputId": "34f12ac5-5f2b-4f3c-eeeb-1d2fbfe4931b"
      },
      "outputs": [
        {
          "data": {
            "text/html": [
              "<div>\n",
              "<style scoped>\n",
              "    .dataframe tbody tr th:only-of-type {\n",
              "        vertical-align: middle;\n",
              "    }\n",
              "\n",
              "    .dataframe tbody tr th {\n",
              "        vertical-align: top;\n",
              "    }\n",
              "\n",
              "    .dataframe thead th {\n",
              "        text-align: right;\n",
              "    }\n",
              "</style>\n",
              "<table border=\"1\" class=\"dataframe\">\n",
              "  <thead>\n",
              "    <tr style=\"text-align: right;\">\n",
              "      <th></th>\n",
              "      <th>product_category_name</th>\n",
              "      <th>product_category_name_english</th>\n",
              "    </tr>\n",
              "  </thead>\n",
              "  <tbody>\n",
              "    <tr>\n",
              "      <th>0</th>\n",
              "      <td>portateis_cozinha_e_preparadores_de_alimentos</td>\n",
              "      <td>portable_kitchen_and_food_preparation_devices</td>\n",
              "    </tr>\n",
              "  </tbody>\n",
              "</table>\n",
              "</div>"
            ],
            "text/plain": [
              "                           product_category_name  \\\n",
              "0  portateis_cozinha_e_preparadores_de_alimentos   \n",
              "\n",
              "                   product_category_name_english  \n",
              "0  portable_kitchen_and_food_preparation_devices  "
            ]
          },
          "execution_count": 189,
          "metadata": {},
          "output_type": "execute_result"
        }
      ],
      "source": [
        "new_rows = pd.DataFrame({\n",
        "    'product_category_name' : ['portateis_cozinha_e_preparadores_de_alimentos', 'pc_gamer'],\n",
        "    'product_category_name_english' : ['portable_kitchen_and_food_preparation_devices', 'pc_gamer']\n",
        "})\n",
        "product_category_translation_df =  pd.concat([product_category_translation_df, new_rows])\n",
        "product_category_translation_df[product_category_translation_df.product_category_name == 'portateis_cozinha_e_preparadores_de_alimentos' ]"
      ]
    },
    {
      "cell_type": "code",
      "execution_count": null,
      "metadata": {
        "id": "5b_W8E5H3cK4"
      },
      "outputs": [],
      "source": [
        "order_products_df = pd.merge(\n",
        "    left=order_items_df[['order_id', 'product_id', 'seller_id', 'price']],\n",
        "    right=products_df[['product_id', 'product_category_name']],\n",
        "    how='left',\n",
        "    left_on='product_id',\n",
        "    right_on='product_id'\n",
        ")\n",
        "\n",
        "\n"
      ]
    },
    {
      "cell_type": "code",
      "execution_count": null,
      "metadata": {},
      "outputs": [],
      "source": [
        "order_products_df = pd.merge(\n",
        "    left=order_products_df,\n",
        "    right=product_category_translation_df,\n",
        "    how='left',\n",
        "    left_on='product_category_name',\n",
        "    right_on='product_category_name'\n",
        ")\n"
      ]
    },
    {
      "cell_type": "code",
      "execution_count": null,
      "metadata": {
        "colab": {
          "base_uri": "https://localhost:8080/"
        },
        "id": "niCwfi94eqjM",
        "outputId": "21b53187-41c8-4380-b9dc-05014f8327af"
      },
      "outputs": [
        {
          "name": "stdout",
          "output_type": "stream",
          "text": [
            "<class 'pandas.core.frame.DataFrame'>\n",
            "RangeIndex: 112650 entries, 0 to 112649\n",
            "Data columns (total 6 columns):\n",
            " #   Column                         Non-Null Count   Dtype  \n",
            "---  ------                         --------------   -----  \n",
            " 0   order_id                       112650 non-null  object \n",
            " 1   product_id                     112650 non-null  object \n",
            " 2   seller_id                      112650 non-null  object \n",
            " 3   price                          112650 non-null  float64\n",
            " 4   product_category_name          112650 non-null  object \n",
            " 5   product_category_name_english  112650 non-null  object \n",
            "dtypes: float64(1), object(5)\n",
            "memory usage: 5.2+ MB\n"
          ]
        }
      ],
      "source": [
        "order_products_df.info()"
      ]
    },
    {
      "cell_type": "code",
      "execution_count": null,
      "metadata": {
        "colab": {
          "base_uri": "https://localhost:8080/",
          "height": 444
        },
        "id": "ALg01zy3Yicg",
        "outputId": "2aec01b1-dfb7-4005-85dc-b46db78f4a49"
      },
      "outputs": [
        {
          "data": {
            "text/html": [
              "<div>\n",
              "<style scoped>\n",
              "    .dataframe tbody tr th:only-of-type {\n",
              "        vertical-align: middle;\n",
              "    }\n",
              "\n",
              "    .dataframe tbody tr th {\n",
              "        vertical-align: top;\n",
              "    }\n",
              "\n",
              "    .dataframe thead th {\n",
              "        text-align: right;\n",
              "    }\n",
              "</style>\n",
              "<table border=\"1\" class=\"dataframe\">\n",
              "  <thead>\n",
              "    <tr style=\"text-align: right;\">\n",
              "      <th></th>\n",
              "      <th>order_id</th>\n",
              "      <th>product_id</th>\n",
              "      <th>seller_id</th>\n",
              "      <th>price</th>\n",
              "      <th>product_category_name</th>\n",
              "      <th>product_category_name_english</th>\n",
              "    </tr>\n",
              "  </thead>\n",
              "  <tbody>\n",
              "    <tr>\n",
              "      <th>105896</th>\n",
              "      <td>f09e36e258656850b92657ac5f67b6d5</td>\n",
              "      <td>44d53f1240d6332232e4393c06500475</td>\n",
              "      <td>b64d51f0435e884e8de603b1655155ae</td>\n",
              "      <td>3.00</td>\n",
              "      <td>NaN</td>\n",
              "      <td>NaN</td>\n",
              "    </tr>\n",
              "    <tr>\n",
              "      <th>109923</th>\n",
              "      <td>f9ccaff7267fd0cf076e795b1fae8b69</td>\n",
              "      <td>44d53f1240d6332232e4393c06500475</td>\n",
              "      <td>b64d51f0435e884e8de603b1655155ae</td>\n",
              "      <td>3.00</td>\n",
              "      <td>NaN</td>\n",
              "      <td>NaN</td>\n",
              "    </tr>\n",
              "    <tr>\n",
              "      <th>62025</th>\n",
              "      <td>8d9a9808c4a5546adb15d524d6ab2e91</td>\n",
              "      <td>dc9f66a56b89e4278d921898a861a29a</td>\n",
              "      <td>8d92f3ea807b89465643c219455e7369</td>\n",
              "      <td>3.90</td>\n",
              "      <td>NaN</td>\n",
              "      <td>NaN</td>\n",
              "    </tr>\n",
              "    <tr>\n",
              "      <th>54638</th>\n",
              "      <td>7c2ee08449e6b8b55158e518778dbe83</td>\n",
              "      <td>d7b39598905ba8e791fe3f1f376d59f9</td>\n",
              "      <td>9cea4682e16655f7da87f406902e989e</td>\n",
              "      <td>4.78</td>\n",
              "      <td>NaN</td>\n",
              "      <td>NaN</td>\n",
              "    </tr>\n",
              "    <tr>\n",
              "      <th>86492</th>\n",
              "      <td>c471a28c25283860362c67c0a1cd1694</td>\n",
              "      <td>d7b39598905ba8e791fe3f1f376d59f9</td>\n",
              "      <td>9cea4682e16655f7da87f406902e989e</td>\n",
              "      <td>4.78</td>\n",
              "      <td>NaN</td>\n",
              "      <td>NaN</td>\n",
              "    </tr>\n",
              "    <tr>\n",
              "      <th>...</th>\n",
              "      <td>...</td>\n",
              "      <td>...</td>\n",
              "      <td>...</td>\n",
              "      <td>...</td>\n",
              "      <td>...</td>\n",
              "      <td>...</td>\n",
              "    </tr>\n",
              "    <tr>\n",
              "      <th>41986</th>\n",
              "      <td>5f9e4b231676bfe9ead7e5ed49d06dfc</td>\n",
              "      <td>eed5cbd74fac3bd79b7c7ec95fa7507d</td>\n",
              "      <td>5d378b73ab7dd6f0418d743e5dcb0bd1</td>\n",
              "      <td>1989.00</td>\n",
              "      <td>NaN</td>\n",
              "      <td>NaN</td>\n",
              "    </tr>\n",
              "    <tr>\n",
              "      <th>19517</th>\n",
              "      <td>2cc93fd6f68e6cfcb968814de8a14296</td>\n",
              "      <td>eed5cbd74fac3bd79b7c7ec95fa7507d</td>\n",
              "      <td>5d378b73ab7dd6f0418d743e5dcb0bd1</td>\n",
              "      <td>1989.00</td>\n",
              "      <td>NaN</td>\n",
              "      <td>NaN</td>\n",
              "    </tr>\n",
              "    <tr>\n",
              "      <th>78664</th>\n",
              "      <td>b2f633218c7a89e314ade77e1486c7b9</td>\n",
              "      <td>eed5cbd74fac3bd79b7c7ec95fa7507d</td>\n",
              "      <td>5d378b73ab7dd6f0418d743e5dcb0bd1</td>\n",
              "      <td>1989.00</td>\n",
              "      <td>NaN</td>\n",
              "      <td>NaN</td>\n",
              "    </tr>\n",
              "    <tr>\n",
              "      <th>53308</th>\n",
              "      <td>794c69999774820e22c161f6dc4fef91</td>\n",
              "      <td>0e030462875259ec0cb868f7ecf1fd5e</td>\n",
              "      <td>abe021b01ba992245271b9aa422032df</td>\n",
              "      <td>2740.00</td>\n",
              "      <td>NaN</td>\n",
              "      <td>NaN</td>\n",
              "    </tr>\n",
              "    <tr>\n",
              "      <th>67456</th>\n",
              "      <td>9a3966c23190dbdbaabed08e8429c006</td>\n",
              "      <td>4c50dcc50f1512f46096d6ef0142c4a9</td>\n",
              "      <td>abe021b01ba992245271b9aa422032df</td>\n",
              "      <td>3980.00</td>\n",
              "      <td>NaN</td>\n",
              "      <td>NaN</td>\n",
              "    </tr>\n",
              "  </tbody>\n",
              "</table>\n",
              "<p>1604 rows × 6 columns</p>\n",
              "</div>"
            ],
            "text/plain": [
              "                                order_id                        product_id  \\\n",
              "105896  f09e36e258656850b92657ac5f67b6d5  44d53f1240d6332232e4393c06500475   \n",
              "109923  f9ccaff7267fd0cf076e795b1fae8b69  44d53f1240d6332232e4393c06500475   \n",
              "62025   8d9a9808c4a5546adb15d524d6ab2e91  dc9f66a56b89e4278d921898a861a29a   \n",
              "54638   7c2ee08449e6b8b55158e518778dbe83  d7b39598905ba8e791fe3f1f376d59f9   \n",
              "86492   c471a28c25283860362c67c0a1cd1694  d7b39598905ba8e791fe3f1f376d59f9   \n",
              "...                                  ...                               ...   \n",
              "41986   5f9e4b231676bfe9ead7e5ed49d06dfc  eed5cbd74fac3bd79b7c7ec95fa7507d   \n",
              "19517   2cc93fd6f68e6cfcb968814de8a14296  eed5cbd74fac3bd79b7c7ec95fa7507d   \n",
              "78664   b2f633218c7a89e314ade77e1486c7b9  eed5cbd74fac3bd79b7c7ec95fa7507d   \n",
              "53308   794c69999774820e22c161f6dc4fef91  0e030462875259ec0cb868f7ecf1fd5e   \n",
              "67456   9a3966c23190dbdbaabed08e8429c006  4c50dcc50f1512f46096d6ef0142c4a9   \n",
              "\n",
              "                               seller_id    price product_category_name  \\\n",
              "105896  b64d51f0435e884e8de603b1655155ae     3.00                   NaN   \n",
              "109923  b64d51f0435e884e8de603b1655155ae     3.00                   NaN   \n",
              "62025   8d92f3ea807b89465643c219455e7369     3.90                   NaN   \n",
              "54638   9cea4682e16655f7da87f406902e989e     4.78                   NaN   \n",
              "86492   9cea4682e16655f7da87f406902e989e     4.78                   NaN   \n",
              "...                                  ...      ...                   ...   \n",
              "41986   5d378b73ab7dd6f0418d743e5dcb0bd1  1989.00                   NaN   \n",
              "19517   5d378b73ab7dd6f0418d743e5dcb0bd1  1989.00                   NaN   \n",
              "78664   5d378b73ab7dd6f0418d743e5dcb0bd1  1989.00                   NaN   \n",
              "53308   abe021b01ba992245271b9aa422032df  2740.00                   NaN   \n",
              "67456   abe021b01ba992245271b9aa422032df  3980.00                   NaN   \n",
              "\n",
              "       product_category_name_english  \n",
              "105896                           NaN  \n",
              "109923                           NaN  \n",
              "62025                            NaN  \n",
              "54638                            NaN  \n",
              "86492                            NaN  \n",
              "...                              ...  \n",
              "41986                            NaN  \n",
              "19517                            NaN  \n",
              "78664                            NaN  \n",
              "53308                            NaN  \n",
              "67456                            NaN  \n",
              "\n",
              "[1604 rows x 6 columns]"
            ]
          },
          "execution_count": 193,
          "metadata": {},
          "output_type": "execute_result"
        }
      ],
      "source": [
        "order_products_df[order_products_df.product_category_name.isnull()].sort_values(by='price')"
      ]
    },
    {
      "cell_type": "code",
      "execution_count": null,
      "metadata": {
        "colab": {
          "base_uri": "https://localhost:8080/",
          "height": 81
        },
        "id": "mhK0ewEIe1_d",
        "outputId": "821ac265-1a6e-4a50-a4e7-b5f3e091d98f"
      },
      "outputs": [
        {
          "data": {
            "text/html": [
              "<div>\n",
              "<style scoped>\n",
              "    .dataframe tbody tr th:only-of-type {\n",
              "        vertical-align: middle;\n",
              "    }\n",
              "\n",
              "    .dataframe tbody tr th {\n",
              "        vertical-align: top;\n",
              "    }\n",
              "\n",
              "    .dataframe thead th {\n",
              "        text-align: right;\n",
              "    }\n",
              "</style>\n",
              "<table border=\"1\" class=\"dataframe\">\n",
              "  <thead>\n",
              "    <tr style=\"text-align: right;\">\n",
              "      <th></th>\n",
              "      <th>order_id</th>\n",
              "    </tr>\n",
              "    <tr>\n",
              "      <th>product_category_name</th>\n",
              "      <th></th>\n",
              "    </tr>\n",
              "  </thead>\n",
              "  <tbody>\n",
              "  </tbody>\n",
              "</table>\n",
              "</div>"
            ],
            "text/plain": [
              "Empty DataFrame\n",
              "Columns: [order_id]\n",
              "Index: []"
            ]
          },
          "execution_count": 194,
          "metadata": {},
          "output_type": "execute_result"
        }
      ],
      "source": [
        "order_products_df[order_products_df.product_category_name.notnull() & order_products_df.product_category_name_english.isnull()].groupby('product_category_name').agg({'order_id' : 'nunique'})"
      ]
    },
    {
      "cell_type": "code",
      "execution_count": null,
      "metadata": {
        "id": "WsmUwIefaOv9"
      },
      "outputs": [
        {
          "name": "stderr",
          "output_type": "stream",
          "text": [
            "C:\\Users\\erky\\AppData\\Local\\Temp\\ipykernel_776\\1176074130.py:1: FutureWarning: A value is trying to be set on a copy of a DataFrame or Series through chained assignment using an inplace method.\n",
            "The behavior will change in pandas 3.0. This inplace method will never work because the intermediate object on which we are setting values always behaves as a copy.\n",
            "\n",
            "For example, when doing 'df[col].method(value, inplace=True)', try using 'df.method({col: value}, inplace=True)' or df[col] = df[col].method(value) instead, to perform the operation inplace on the original object.\n",
            "\n",
            "\n",
            "  order_products_df['product_category_name'].fillna(value='Unidentified', inplace=True)\n",
            "C:\\Users\\erky\\AppData\\Local\\Temp\\ipykernel_776\\1176074130.py:2: FutureWarning: A value is trying to be set on a copy of a DataFrame or Series through chained assignment using an inplace method.\n",
            "The behavior will change in pandas 3.0. This inplace method will never work because the intermediate object on which we are setting values always behaves as a copy.\n",
            "\n",
            "For example, when doing 'df[col].method(value, inplace=True)', try using 'df.method({col: value}, inplace=True)' or df[col] = df[col].method(value) instead, to perform the operation inplace on the original object.\n",
            "\n",
            "\n",
            "  order_products_df['product_category_name_english'].fillna(value='Unidentified', inplace=True)\n"
          ]
        }
      ],
      "source": [
        "order_products_df['product_category_name'].fillna(value='Unidentified', inplace=True)\n",
        "order_products_df['product_category_name_english'].fillna(value='Unidentified', inplace=True)"
      ]
    },
    {
      "cell_type": "code",
      "execution_count": null,
      "metadata": {
        "colab": {
          "base_uri": "https://localhost:8080/",
          "height": 226
        },
        "id": "p5lvYcTWcr8e",
        "outputId": "bf9db0ab-34c1-43f5-b516-95b358622677"
      },
      "outputs": [],
      "source": [
        "order_products_df.head()"
      ]
    },
    {
      "cell_type": "code",
      "execution_count": null,
      "metadata": {
        "colab": {
          "base_uri": "https://localhost:8080/",
          "height": 486
        },
        "id": "guQAhv9cbUW3",
        "outputId": "2f03ea67-7ebd-4d57-844e-29233f947af9"
      },
      "outputs": [
        {
          "data": {
            "text/html": [
              "<div>\n",
              "<style scoped>\n",
              "    .dataframe tbody tr th:only-of-type {\n",
              "        vertical-align: middle;\n",
              "    }\n",
              "\n",
              "    .dataframe tbody tr th {\n",
              "        vertical-align: top;\n",
              "    }\n",
              "\n",
              "    .dataframe thead tr th {\n",
              "        text-align: left;\n",
              "    }\n",
              "\n",
              "    .dataframe thead tr:last-of-type th {\n",
              "        text-align: right;\n",
              "    }\n",
              "</style>\n",
              "<table border=\"1\" class=\"dataframe\">\n",
              "  <thead>\n",
              "    <tr>\n",
              "      <th></th>\n",
              "      <th colspan=\"4\" halign=\"left\">price</th>\n",
              "    </tr>\n",
              "    <tr>\n",
              "      <th></th>\n",
              "      <th>mean</th>\n",
              "      <th>min</th>\n",
              "      <th>max</th>\n",
              "      <th>std</th>\n",
              "    </tr>\n",
              "    <tr>\n",
              "      <th>product_category_name_english</th>\n",
              "      <th></th>\n",
              "      <th></th>\n",
              "      <th></th>\n",
              "      <th></th>\n",
              "    </tr>\n",
              "  </thead>\n",
              "  <tbody>\n",
              "    <tr>\n",
              "      <th>Unidentified</th>\n",
              "      <td>113.135461</td>\n",
              "      <td>3.00</td>\n",
              "      <td>3980.00</td>\n",
              "      <td>202.885419</td>\n",
              "    </tr>\n",
              "    <tr>\n",
              "      <th>agro_industry_and_commerce</th>\n",
              "      <td>342.124858</td>\n",
              "      <td>12.99</td>\n",
              "      <td>2990.00</td>\n",
              "      <td>419.429802</td>\n",
              "    </tr>\n",
              "    <tr>\n",
              "      <th>air_conditioning</th>\n",
              "      <td>185.269226</td>\n",
              "      <td>10.90</td>\n",
              "      <td>1599.00</td>\n",
              "      <td>189.715803</td>\n",
              "    </tr>\n",
              "    <tr>\n",
              "      <th>art</th>\n",
              "      <td>115.802105</td>\n",
              "      <td>3.50</td>\n",
              "      <td>6499.00</td>\n",
              "      <td>445.661765</td>\n",
              "    </tr>\n",
              "    <tr>\n",
              "      <th>arts_and_craftmanship</th>\n",
              "      <td>75.583750</td>\n",
              "      <td>9.80</td>\n",
              "      <td>289.49</td>\n",
              "      <td>73.997815</td>\n",
              "    </tr>\n",
              "    <tr>\n",
              "      <th>...</th>\n",
              "      <td>...</td>\n",
              "      <td>...</td>\n",
              "      <td>...</td>\n",
              "      <td>...</td>\n",
              "    </tr>\n",
              "    <tr>\n",
              "      <th>stationery</th>\n",
              "      <td>91.753369</td>\n",
              "      <td>2.29</td>\n",
              "      <td>1693.00</td>\n",
              "      <td>84.335504</td>\n",
              "    </tr>\n",
              "    <tr>\n",
              "      <th>tablets_printing_image</th>\n",
              "      <td>90.703735</td>\n",
              "      <td>14.90</td>\n",
              "      <td>889.99</td>\n",
              "      <td>93.096747</td>\n",
              "    </tr>\n",
              "    <tr>\n",
              "      <th>telephony</th>\n",
              "      <td>71.213978</td>\n",
              "      <td>5.00</td>\n",
              "      <td>2428.00</td>\n",
              "      <td>135.765167</td>\n",
              "    </tr>\n",
              "    <tr>\n",
              "      <th>toys</th>\n",
              "      <td>117.548360</td>\n",
              "      <td>4.90</td>\n",
              "      <td>1699.99</td>\n",
              "      <td>131.421844</td>\n",
              "    </tr>\n",
              "    <tr>\n",
              "      <th>watches_gifts</th>\n",
              "      <td>201.135984</td>\n",
              "      <td>8.99</td>\n",
              "      <td>3999.90</td>\n",
              "      <td>256.742470</td>\n",
              "    </tr>\n",
              "  </tbody>\n",
              "</table>\n",
              "<p>74 rows × 4 columns</p>\n",
              "</div>"
            ],
            "text/plain": [
              "                                    price                            \n",
              "                                     mean    min      max         std\n",
              "product_category_name_english                                        \n",
              "Unidentified                   113.135461   3.00  3980.00  202.885419\n",
              "agro_industry_and_commerce     342.124858  12.99  2990.00  419.429802\n",
              "air_conditioning               185.269226  10.90  1599.00  189.715803\n",
              "art                            115.802105   3.50  6499.00  445.661765\n",
              "arts_and_craftmanship           75.583750   9.80   289.49   73.997815\n",
              "...                                   ...    ...      ...         ...\n",
              "stationery                      91.753369   2.29  1693.00   84.335504\n",
              "tablets_printing_image          90.703735  14.90   889.99   93.096747\n",
              "telephony                       71.213978   5.00  2428.00  135.765167\n",
              "toys                           117.548360   4.90  1699.99  131.421844\n",
              "watches_gifts                  201.135984   8.99  3999.90  256.742470\n",
              "\n",
              "[74 rows x 4 columns]"
            ]
          },
          "execution_count": 197,
          "metadata": {},
          "output_type": "execute_result"
        }
      ],
      "source": [
        "order_products_df.groupby(by='product_category_name_english').agg({'price': ['mean', 'min', 'max', 'std']})"
      ]
    },
    {
      "cell_type": "code",
      "execution_count": null,
      "metadata": {
        "colab": {
          "base_uri": "https://localhost:8080/"
        },
        "id": "pdIxvr0hq0Q6",
        "outputId": "ebfc9753-4a7b-4146-c71c-a42dc1592072"
      },
      "outputs": [
        {
          "data": {
            "text/plain": [
              "price\n",
              "6.99        2\n",
              "7.50        1\n",
              "7.90        8\n",
              "7.99        4\n",
              "8.99       14\n",
              "           ..\n",
              "1244.00     1\n",
              "1269.10     1\n",
              "1740.00     2\n",
              "1914.58     2\n",
              "1999.98     1\n",
              "Name: product_id, Length: 871, dtype: int64"
            ]
          },
          "execution_count": 198,
          "metadata": {},
          "output_type": "execute_result"
        }
      ],
      "source": [
        "order_products_df[order_products_df.product_category_name_english == 'bed_bath_table'].groupby('price').product_id.count()"
      ]
    },
    {
      "cell_type": "code",
      "execution_count": null,
      "metadata": {
        "colab": {
          "base_uri": "https://localhost:8080/"
        },
        "id": "IwzTJIX4sLR2",
        "outputId": "5ad6932f-8b65-4702-859e-ee0effc6b9ce"
      },
      "outputs": [
        {
          "data": {
            "text/plain": [
              "order_status\n",
              "approved           2\n",
              "canceled         625\n",
              "created            5\n",
              "delivered      96478\n",
              "invoiced         314\n",
              "processing       301\n",
              "shipped         1107\n",
              "unavailable      609\n",
              "Name: order_id, dtype: int64"
            ]
          },
          "execution_count": 199,
          "metadata": {},
          "output_type": "execute_result"
        }
      ],
      "source": [
        "orders_df.groupby(by='order_status').order_id.nunique()"
      ]
    },
    {
      "cell_type": "code",
      "execution_count": null,
      "metadata": {},
      "outputs": [
        {
          "name": "stdout",
          "output_type": "stream",
          "text": [
            "<class 'pandas.core.frame.DataFrame'>\n",
            "RangeIndex: 112650 entries, 0 to 112649\n",
            "Data columns (total 6 columns):\n",
            " #   Column                         Non-Null Count   Dtype  \n",
            "---  ------                         --------------   -----  \n",
            " 0   order_id                       112650 non-null  object \n",
            " 1   product_id                     112650 non-null  object \n",
            " 2   seller_id                      112650 non-null  object \n",
            " 3   price                          112650 non-null  float64\n",
            " 4   product_category_name          112650 non-null  object \n",
            " 5   product_category_name_english  112650 non-null  object \n",
            "dtypes: float64(1), object(5)\n",
            "memory usage: 5.2+ MB\n"
          ]
        }
      ],
      "source": [
        "order_products_df.info()"
      ]
    },
    {
      "cell_type": "code",
      "execution_count": null,
      "metadata": {},
      "outputs": [
        {
          "name": "stdout",
          "output_type": "stream",
          "text": [
            "<class 'pandas.core.frame.DataFrame'>\n",
            "RangeIndex: 99441 entries, 0 to 99440\n",
            "Data columns (total 8 columns):\n",
            " #   Column                         Non-Null Count  Dtype         \n",
            "---  ------                         --------------  -----         \n",
            " 0   order_id                       99441 non-null  object        \n",
            " 1   customer_id                    99441 non-null  object        \n",
            " 2   order_status                   99441 non-null  object        \n",
            " 3   order_purchase_timestamp       99441 non-null  datetime64[ns]\n",
            " 4   order_approved_at              99441 non-null  datetime64[ns]\n",
            " 5   order_delivered_carrier_date   99441 non-null  datetime64[ns]\n",
            " 6   order_delivered_customer_date  99441 non-null  datetime64[ns]\n",
            " 7   order_estimated_delivery_date  99441 non-null  datetime64[ns]\n",
            "dtypes: datetime64[ns](5), object(3)\n",
            "memory usage: 6.1+ MB\n"
          ]
        }
      ],
      "source": [
        "orders_df.info()\n"
      ]
    },
    {
      "cell_type": "code",
      "execution_count": null,
      "metadata": {
        "colab": {
          "base_uri": "https://localhost:8080/",
          "height": 226
        },
        "id": "ZZ5j_OBrsw0c",
        "outputId": "0726aaab-03b8-47bc-b85c-f27e52a3ee9e"
      },
      "outputs": [],
      "source": [
        "order_products_df = pd.merge(\n",
        "    left=order_products_df,\n",
        "    right=orders_df[['order_id', 'customer_id', 'order_status', 'order_purchase_timestamp']],\n",
        "    how='left',\n",
        "    left_on='order_id',\n",
        "    right_on='order_id'\n",
        ")"
      ]
    },
    {
      "cell_type": "code",
      "execution_count": null,
      "metadata": {},
      "outputs": [
        {
          "name": "stdout",
          "output_type": "stream",
          "text": [
            "<class 'pandas.core.frame.DataFrame'>\n",
            "RangeIndex: 112650 entries, 0 to 112649\n",
            "Data columns (total 9 columns):\n",
            " #   Column                         Non-Null Count   Dtype         \n",
            "---  ------                         --------------   -----         \n",
            " 0   order_id                       112650 non-null  object        \n",
            " 1   product_id                     112650 non-null  object        \n",
            " 2   seller_id                      112650 non-null  object        \n",
            " 3   price                          112650 non-null  float64       \n",
            " 4   product_category_name          112650 non-null  object        \n",
            " 5   product_category_name_english  112650 non-null  object        \n",
            " 6   customer_id                    112650 non-null  object        \n",
            " 7   order_status                   112650 non-null  object        \n",
            " 8   order_purchase_timestamp       112650 non-null  datetime64[ns]\n",
            "dtypes: datetime64[ns](1), float64(1), object(7)\n",
            "memory usage: 7.7+ MB\n"
          ]
        }
      ],
      "source": [
        "order_products_df.info()"
      ]
    },
    {
      "cell_type": "code",
      "execution_count": null,
      "metadata": {
        "colab": {
          "base_uri": "https://localhost:8080/",
          "height": 73
        },
        "id": "nZWVtFrHt6JV",
        "outputId": "0562c288-bcf2-4d9e-b29f-72d16db89277"
      },
      "outputs": [
        {
          "data": {
            "text/html": [
              "<div>\n",
              "<style scoped>\n",
              "    .dataframe tbody tr th:only-of-type {\n",
              "        vertical-align: middle;\n",
              "    }\n",
              "\n",
              "    .dataframe tbody tr th {\n",
              "        vertical-align: top;\n",
              "    }\n",
              "\n",
              "    .dataframe thead th {\n",
              "        text-align: right;\n",
              "    }\n",
              "</style>\n",
              "<table border=\"1\" class=\"dataframe\">\n",
              "  <thead>\n",
              "    <tr style=\"text-align: right;\">\n",
              "      <th></th>\n",
              "      <th>order_id</th>\n",
              "      <th>product_id</th>\n",
              "      <th>seller_id</th>\n",
              "      <th>price</th>\n",
              "      <th>product_category_name</th>\n",
              "      <th>product_category_name_english</th>\n",
              "      <th>customer_id</th>\n",
              "      <th>order_status</th>\n",
              "      <th>order_purchase_timestamp</th>\n",
              "    </tr>\n",
              "  </thead>\n",
              "  <tbody>\n",
              "  </tbody>\n",
              "</table>\n",
              "</div>"
            ],
            "text/plain": [
              "Empty DataFrame\n",
              "Columns: [order_id, product_id, seller_id, price, product_category_name, product_category_name_english, customer_id, order_status, order_purchase_timestamp]\n",
              "Index: []"
            ]
          },
          "execution_count": 207,
          "metadata": {},
          "output_type": "execute_result"
        }
      ],
      "source": [
        "# Menyaring data yang memiliki order status 'canceled' dan 'unavailable'\n",
        "order_products_df = order_products_df[order_products_df.order_status != 'canceled']\n",
        "order_products_df = order_products_df[order_products_df.order_status != 'unavailable']\n",
        "order_products_df[order_products_df.order_status == 'canceled']"
      ]
    },
    {
      "cell_type": "code",
      "execution_count": null,
      "metadata": {
        "colab": {
          "base_uri": "https://localhost:8080/",
          "height": 455
        },
        "id": "p_UVrtDioVDg",
        "outputId": "67e6b14f-77da-4ab1-e767-4a0eb934d660"
      },
      "outputs": [
        {
          "data": {
            "text/html": [
              "<div>\n",
              "<style scoped>\n",
              "    .dataframe tbody tr th:only-of-type {\n",
              "        vertical-align: middle;\n",
              "    }\n",
              "\n",
              "    .dataframe tbody tr th {\n",
              "        vertical-align: top;\n",
              "    }\n",
              "\n",
              "    .dataframe thead th {\n",
              "        text-align: right;\n",
              "    }\n",
              "</style>\n",
              "<table border=\"1\" class=\"dataframe\">\n",
              "  <thead>\n",
              "    <tr style=\"text-align: right;\">\n",
              "      <th></th>\n",
              "      <th>order_id</th>\n",
              "      <th>product_id</th>\n",
              "      <th>price</th>\n",
              "    </tr>\n",
              "    <tr>\n",
              "      <th>product_category_name_english</th>\n",
              "      <th></th>\n",
              "      <th></th>\n",
              "      <th></th>\n",
              "    </tr>\n",
              "  </thead>\n",
              "  <tbody>\n",
              "    <tr>\n",
              "      <th>bed_bath_table</th>\n",
              "      <td>9399</td>\n",
              "      <td>11097</td>\n",
              "      <td>1035964.06</td>\n",
              "    </tr>\n",
              "    <tr>\n",
              "      <th>health_beauty</th>\n",
              "      <td>8800</td>\n",
              "      <td>9634</td>\n",
              "      <td>1255695.13</td>\n",
              "    </tr>\n",
              "    <tr>\n",
              "      <th>sports_leisure</th>\n",
              "      <td>7673</td>\n",
              "      <td>8590</td>\n",
              "      <td>979740.92</td>\n",
              "    </tr>\n",
              "    <tr>\n",
              "      <th>computers_accessories</th>\n",
              "      <td>6654</td>\n",
              "      <td>7781</td>\n",
              "      <td>904322.02</td>\n",
              "    </tr>\n",
              "    <tr>\n",
              "      <th>furniture_decor</th>\n",
              "      <td>6425</td>\n",
              "      <td>8298</td>\n",
              "      <td>727465.05</td>\n",
              "    </tr>\n",
              "    <tr>\n",
              "      <th>...</th>\n",
              "      <td>...</td>\n",
              "      <td>...</td>\n",
              "      <td>...</td>\n",
              "    </tr>\n",
              "    <tr>\n",
              "      <th>la_cuisine</th>\n",
              "      <td>13</td>\n",
              "      <td>14</td>\n",
              "      <td>2054.99</td>\n",
              "    </tr>\n",
              "    <tr>\n",
              "      <th>cds_dvds_musicals</th>\n",
              "      <td>12</td>\n",
              "      <td>14</td>\n",
              "      <td>730.00</td>\n",
              "    </tr>\n",
              "    <tr>\n",
              "      <th>fashion_childrens_clothes</th>\n",
              "      <td>8</td>\n",
              "      <td>8</td>\n",
              "      <td>569.85</td>\n",
              "    </tr>\n",
              "    <tr>\n",
              "      <th>pc_gamer</th>\n",
              "      <td>7</td>\n",
              "      <td>8</td>\n",
              "      <td>1306.95</td>\n",
              "    </tr>\n",
              "    <tr>\n",
              "      <th>security_and_services</th>\n",
              "      <td>2</td>\n",
              "      <td>2</td>\n",
              "      <td>283.29</td>\n",
              "    </tr>\n",
              "  </tbody>\n",
              "</table>\n",
              "<p>74 rows × 3 columns</p>\n",
              "</div>"
            ],
            "text/plain": [
              "                               order_id  product_id       price\n",
              "product_category_name_english                                  \n",
              "bed_bath_table                     9399       11097  1035964.06\n",
              "health_beauty                      8800        9634  1255695.13\n",
              "sports_leisure                     7673        8590   979740.92\n",
              "computers_accessories              6654        7781   904322.02\n",
              "furniture_decor                    6425        8298   727465.05\n",
              "...                                 ...         ...         ...\n",
              "la_cuisine                           13          14     2054.99\n",
              "cds_dvds_musicals                    12          14      730.00\n",
              "fashion_childrens_clothes             8           8      569.85\n",
              "pc_gamer                              7           8     1306.95\n",
              "security_and_services                 2           2      283.29\n",
              "\n",
              "[74 rows x 3 columns]"
            ]
          },
          "execution_count": 208,
          "metadata": {},
          "output_type": "execute_result"
        }
      ],
      "source": [
        "# Pertanyaan 1\n",
        "\n",
        "order_products_df.groupby(by='product_category_name_english').agg({\n",
        "    'order_id' : 'nunique',\n",
        "    'product_id' : 'count',\n",
        "    'price' : 'sum'\n",
        "}).sort_values(by='order_id', ascending=False)"
      ]
    },
    {
      "cell_type": "code",
      "execution_count": null,
      "metadata": {},
      "outputs": [
        {
          "name": "stdout",
          "output_type": "stream",
          "text": [
            "<class 'pandas.core.frame.DataFrame'>\n",
            "RangeIndex: 3095 entries, 0 to 3094\n",
            "Data columns (total 4 columns):\n",
            " #   Column                  Non-Null Count  Dtype \n",
            "---  ------                  --------------  ----- \n",
            " 0   seller_id               3095 non-null   object\n",
            " 1   seller_zip_code_prefix  3095 non-null   int64 \n",
            " 2   seller_city             3095 non-null   object\n",
            " 3   seller_state            3095 non-null   object\n",
            "dtypes: int64(1), object(3)\n",
            "memory usage: 96.8+ KB\n"
          ]
        }
      ],
      "source": [
        "sellers_df.info()"
      ]
    },
    {
      "cell_type": "code",
      "execution_count": null,
      "metadata": {},
      "outputs": [
        {
          "name": "stdout",
          "output_type": "stream",
          "text": [
            "<class 'pandas.core.frame.DataFrame'>\n",
            "RangeIndex: 99224 entries, 0 to 99223\n",
            "Data columns (total 7 columns):\n",
            " #   Column                   Non-Null Count  Dtype         \n",
            "---  ------                   --------------  -----         \n",
            " 0   review_id                99224 non-null  object        \n",
            " 1   order_id                 99224 non-null  object        \n",
            " 2   review_score             99224 non-null  int64         \n",
            " 3   review_comment_title     11568 non-null  object        \n",
            " 4   review_comment_message   40977 non-null  object        \n",
            " 5   review_creation_date     99224 non-null  datetime64[ns]\n",
            " 6   review_answer_timestamp  99224 non-null  datetime64[ns]\n",
            "dtypes: datetime64[ns](2), int64(1), object(4)\n",
            "memory usage: 5.3+ MB\n"
          ]
        }
      ],
      "source": [
        "order_reviews_df.info()"
      ]
    },
    {
      "cell_type": "code",
      "execution_count": null,
      "metadata": {},
      "outputs": [
        {
          "name": "stdout",
          "output_type": "stream",
          "text": [
            "<class 'pandas.core.frame.DataFrame'>\n",
            "RangeIndex: 112761 entries, 0 to 112760\n",
            "Data columns (total 11 columns):\n",
            " #   Column                         Non-Null Count   Dtype         \n",
            "---  ------                         --------------   -----         \n",
            " 0   order_id                       112761 non-null  object        \n",
            " 1   product_id                     112761 non-null  object        \n",
            " 2   seller_id                      112761 non-null  object        \n",
            " 3   price                          112761 non-null  float64       \n",
            " 4   product_category_name          112761 non-null  object        \n",
            " 5   product_category_name_english  112761 non-null  object        \n",
            " 6   customer_id                    112761 non-null  object        \n",
            " 7   order_status                   112761 non-null  object        \n",
            " 8   order_purchase_timestamp       112761 non-null  datetime64[ns]\n",
            " 9   review_id                      111836 non-null  object        \n",
            " 10  review_score                   111836 non-null  float64       \n",
            "dtypes: datetime64[ns](1), float64(2), object(8)\n",
            "memory usage: 9.5+ MB\n"
          ]
        }
      ],
      "source": [
        "order_products_df.info()"
      ]
    },
    {
      "cell_type": "code",
      "execution_count": null,
      "metadata": {},
      "outputs": [
        {
          "name": "stdout",
          "output_type": "stream",
          "text": [
            "10210\n"
          ]
        }
      ],
      "source": [
        "print(order_products_df.duplicated().sum())"
      ]
    },
    {
      "cell_type": "code",
      "execution_count": null,
      "metadata": {
        "id": "JrPQBcZ7xgQE"
      },
      "outputs": [],
      "source": [
        "order_products_df = pd.merge(\n",
        "    left=order_products_df,\n",
        "    right=order_reviews_df[['order_id', 'review_id', 'review_score']],\n",
        "    how='left',\n",
        "    left_on='order_id',\n",
        "    right_on='order_id'\n",
        ")"
      ]
    },
    {
      "cell_type": "code",
      "execution_count": null,
      "metadata": {},
      "outputs": [
        {
          "name": "stdout",
          "output_type": "stream",
          "text": [
            "<class 'pandas.core.frame.DataFrame'>\n",
            "RangeIndex: 3095 entries, 0 to 3094\n",
            "Data columns (total 4 columns):\n",
            " #   Column                  Non-Null Count  Dtype \n",
            "---  ------                  --------------  ----- \n",
            " 0   seller_id               3095 non-null   object\n",
            " 1   seller_zip_code_prefix  3095 non-null   int64 \n",
            " 2   seller_city             3095 non-null   object\n",
            " 3   seller_state            3095 non-null   object\n",
            "dtypes: int64(1), object(3)\n",
            "memory usage: 96.8+ KB\n"
          ]
        }
      ],
      "source": [
        "sellers_df.info()"
      ]
    },
    {
      "cell_type": "code",
      "execution_count": null,
      "metadata": {
        "colab": {
          "base_uri": "https://localhost:8080/"
        },
        "id": "qLyH8LoF0PU9",
        "outputId": "edd3e2b9-bfce-4f40-f9de-0c842642917c"
      },
      "outputs": [
        {
          "name": "stdout",
          "output_type": "stream",
          "text": [
            "<class 'pandas.core.frame.DataFrame'>\n",
            "RangeIndex: 112761 entries, 0 to 112760\n",
            "Data columns (total 14 columns):\n",
            " #   Column                         Non-Null Count   Dtype         \n",
            "---  ------                         --------------   -----         \n",
            " 0   order_id                       112761 non-null  object        \n",
            " 1   product_id                     112761 non-null  object        \n",
            " 2   seller_id                      112761 non-null  object        \n",
            " 3   price                          112761 non-null  float64       \n",
            " 4   product_category_name          112761 non-null  object        \n",
            " 5   product_category_name_english  112761 non-null  object        \n",
            " 6   customer_id                    112761 non-null  object        \n",
            " 7   order_status                   112761 non-null  object        \n",
            " 8   order_purchase_timestamp       112761 non-null  datetime64[ns]\n",
            " 9   review_id                      111836 non-null  object        \n",
            " 10  review_score                   111836 non-null  float64       \n",
            " 11  seller_zip_code_prefix         112761 non-null  int64         \n",
            " 12  seller_city                    112761 non-null  object        \n",
            " 13  seller_state                   112761 non-null  object        \n",
            "dtypes: datetime64[ns](1), float64(2), int64(1), object(10)\n",
            "memory usage: 12.0+ MB\n"
          ]
        }
      ],
      "source": [
        "order_product_sellers_df = pd.merge(\n",
        "    left=order_products_df,\n",
        "    right=sellers_df,\n",
        "    how='left',\n",
        "    left_on='seller_id',\n",
        "    right_on='seller_id'\n",
        ")\n",
        "\n",
        "order_product_sellers_df.info()"
      ]
    },
    {
      "cell_type": "code",
      "execution_count": null,
      "metadata": {
        "colab": {
          "base_uri": "https://localhost:8080/",
          "height": 455
        },
        "id": "qCZZrjHQyZMh",
        "outputId": "5778199c-f700-4a19-e791-94f46bb570b7"
      },
      "outputs": [
        {
          "data": {
            "text/html": [
              "<div>\n",
              "<style scoped>\n",
              "    .dataframe tbody tr th:only-of-type {\n",
              "        vertical-align: middle;\n",
              "    }\n",
              "\n",
              "    .dataframe tbody tr th {\n",
              "        vertical-align: top;\n",
              "    }\n",
              "\n",
              "    .dataframe thead th {\n",
              "        text-align: right;\n",
              "    }\n",
              "</style>\n",
              "<table border=\"1\" class=\"dataframe\">\n",
              "  <thead>\n",
              "    <tr style=\"text-align: right;\">\n",
              "      <th></th>\n",
              "      <th>order_id</th>\n",
              "      <th>price</th>\n",
              "      <th>review_score</th>\n",
              "    </tr>\n",
              "    <tr>\n",
              "      <th>seller_id</th>\n",
              "      <th></th>\n",
              "      <th></th>\n",
              "      <th></th>\n",
              "    </tr>\n",
              "  </thead>\n",
              "  <tbody>\n",
              "    <tr>\n",
              "      <th>6560211a19b47992c3666cc44a7e94c0</th>\n",
              "      <td>1847</td>\n",
              "      <td>123057.82</td>\n",
              "      <td>3.920477</td>\n",
              "    </tr>\n",
              "    <tr>\n",
              "      <th>4a3ca9315b744ce9f8e9374361493884</th>\n",
              "      <td>1804</td>\n",
              "      <td>202852.32</td>\n",
              "      <td>3.804743</td>\n",
              "    </tr>\n",
              "    <tr>\n",
              "      <th>cc419e0650a3c5ba77189a1882b7556a</th>\n",
              "      <td>1697</td>\n",
              "      <td>105902.07</td>\n",
              "      <td>4.083796</td>\n",
              "    </tr>\n",
              "    <tr>\n",
              "      <th>1f50f920176fa81dab994f9023523100</th>\n",
              "      <td>1403</td>\n",
              "      <td>107381.51</td>\n",
              "      <td>3.983946</td>\n",
              "    </tr>\n",
              "    <tr>\n",
              "      <th>da8622b14eb17ae2831f4ac5b9dab84a</th>\n",
              "      <td>1314</td>\n",
              "      <td>162723.37</td>\n",
              "      <td>4.071429</td>\n",
              "    </tr>\n",
              "    <tr>\n",
              "      <th>...</th>\n",
              "      <td>...</td>\n",
              "      <td>...</td>\n",
              "      <td>...</td>\n",
              "    </tr>\n",
              "    <tr>\n",
              "      <th>5f57db27027655e6c6a391601daa0258</th>\n",
              "      <td>1</td>\n",
              "      <td>98.00</td>\n",
              "      <td>5.000000</td>\n",
              "    </tr>\n",
              "    <tr>\n",
              "      <th>98f52e1020fe788c10c0418de4393fec</th>\n",
              "      <td>1</td>\n",
              "      <td>21.60</td>\n",
              "      <td>4.000000</td>\n",
              "    </tr>\n",
              "    <tr>\n",
              "      <th>31e60bf8d103ce47932a85f5562deb16</th>\n",
              "      <td>1</td>\n",
              "      <td>181.00</td>\n",
              "      <td>5.000000</td>\n",
              "    </tr>\n",
              "    <tr>\n",
              "      <th>984c273121e743dd14767befe6cb17f5</th>\n",
              "      <td>1</td>\n",
              "      <td>259.60</td>\n",
              "      <td>1.000000</td>\n",
              "    </tr>\n",
              "    <tr>\n",
              "      <th>7a188843479798ca813108fa7b959286</th>\n",
              "      <td>1</td>\n",
              "      <td>149.70</td>\n",
              "      <td>1.000000</td>\n",
              "    </tr>\n",
              "  </tbody>\n",
              "</table>\n",
              "<p>3053 rows × 3 columns</p>\n",
              "</div>"
            ],
            "text/plain": [
              "                                  order_id      price  review_score\n",
              "seller_id                                                          \n",
              "6560211a19b47992c3666cc44a7e94c0      1847  123057.82      3.920477\n",
              "4a3ca9315b744ce9f8e9374361493884      1804  202852.32      3.804743\n",
              "cc419e0650a3c5ba77189a1882b7556a      1697  105902.07      4.083796\n",
              "1f50f920176fa81dab994f9023523100      1403  107381.51      3.983946\n",
              "da8622b14eb17ae2831f4ac5b9dab84a      1314  162723.37      4.071429\n",
              "...                                    ...        ...           ...\n",
              "5f57db27027655e6c6a391601daa0258         1      98.00      5.000000\n",
              "98f52e1020fe788c10c0418de4393fec         1      21.60      4.000000\n",
              "31e60bf8d103ce47932a85f5562deb16         1     181.00      5.000000\n",
              "984c273121e743dd14767befe6cb17f5         1     259.60      1.000000\n",
              "7a188843479798ca813108fa7b959286         1     149.70      1.000000\n",
              "\n",
              "[3053 rows x 3 columns]"
            ]
          },
          "execution_count": 222,
          "metadata": {},
          "output_type": "execute_result"
        }
      ],
      "source": [
        "# Pertanyaan 2\n",
        "order_product_sellers_df.groupby('seller_id').agg({\n",
        "    'order_id' : 'nunique',\n",
        "    'price' : 'sum',\n",
        "    'review_score' : 'mean'\n",
        "}).sort_values(by='order_id', ascending=False)"
      ]
    },
    {
      "cell_type": "code",
      "execution_count": null,
      "metadata": {
        "colab": {
          "base_uri": "https://localhost:8080/",
          "height": 455
        },
        "id": "Mg2cR2EOOlT6",
        "outputId": "168118d8-5357-4414-adac-d192f74d56e8"
      },
      "outputs": [
        {
          "data": {
            "text/html": [
              "<div>\n",
              "<style scoped>\n",
              "    .dataframe tbody tr th:only-of-type {\n",
              "        vertical-align: middle;\n",
              "    }\n",
              "\n",
              "    .dataframe tbody tr th {\n",
              "        vertical-align: top;\n",
              "    }\n",
              "\n",
              "    .dataframe thead th {\n",
              "        text-align: right;\n",
              "    }\n",
              "</style>\n",
              "<table border=\"1\" class=\"dataframe\">\n",
              "  <thead>\n",
              "    <tr style=\"text-align: right;\">\n",
              "      <th></th>\n",
              "      <th></th>\n",
              "      <th>seller_id</th>\n",
              "    </tr>\n",
              "    <tr>\n",
              "      <th>seller_state</th>\n",
              "      <th>seller_city</th>\n",
              "      <th></th>\n",
              "    </tr>\n",
              "  </thead>\n",
              "  <tbody>\n",
              "    <tr>\n",
              "      <th>SP</th>\n",
              "      <th>sao paulo</th>\n",
              "      <td>682</td>\n",
              "    </tr>\n",
              "    <tr>\n",
              "      <th>PR</th>\n",
              "      <th>curitiba</th>\n",
              "      <td>123</td>\n",
              "    </tr>\n",
              "    <tr>\n",
              "      <th>RJ</th>\n",
              "      <th>rio de janeiro</th>\n",
              "      <td>93</td>\n",
              "    </tr>\n",
              "    <tr>\n",
              "      <th>MG</th>\n",
              "      <th>belo horizonte</th>\n",
              "      <td>63</td>\n",
              "    </tr>\n",
              "    <tr>\n",
              "      <th>SP</th>\n",
              "      <th>ribeirao preto</th>\n",
              "      <td>52</td>\n",
              "    </tr>\n",
              "    <tr>\n",
              "      <th>...</th>\n",
              "      <th>...</th>\n",
              "      <td>...</td>\n",
              "    </tr>\n",
              "    <tr>\n",
              "      <th rowspan=\"4\" valign=\"top\">RJ</th>\n",
              "      <th>vassouras</th>\n",
              "      <td>1</td>\n",
              "    </tr>\n",
              "    <tr>\n",
              "      <th>tres rios</th>\n",
              "      <td>1</td>\n",
              "    </tr>\n",
              "    <tr>\n",
              "      <th>saquarema</th>\n",
              "      <td>1</td>\n",
              "    </tr>\n",
              "    <tr>\n",
              "      <th>sao pedro da aldeia</th>\n",
              "      <td>1</td>\n",
              "    </tr>\n",
              "    <tr>\n",
              "      <th>SC</th>\n",
              "      <th>camboriu</th>\n",
              "      <td>1</td>\n",
              "    </tr>\n",
              "  </tbody>\n",
              "</table>\n",
              "<p>630 rows × 1 columns</p>\n",
              "</div>"
            ],
            "text/plain": [
              "                                  seller_id\n",
              "seller_state seller_city                   \n",
              "SP           sao paulo                  682\n",
              "PR           curitiba                   123\n",
              "RJ           rio de janeiro              93\n",
              "MG           belo horizonte              63\n",
              "SP           ribeirao preto              52\n",
              "...                                     ...\n",
              "RJ           vassouras                    1\n",
              "             tres rios                    1\n",
              "             saquarema                    1\n",
              "             sao pedro da aldeia          1\n",
              "SC           camboriu                     1\n",
              "\n",
              "[630 rows x 1 columns]"
            ]
          },
          "execution_count": 223,
          "metadata": {},
          "output_type": "execute_result"
        }
      ],
      "source": [
        "# Pertanyaan 3\n",
        "\n",
        "order_product_sellers_df.groupby(by=['seller_state', 'seller_city']).agg({\n",
        "    'seller_id' : 'nunique',\n",
        "}).sort_values(by='seller_id', ascending=False)"
      ]
    },
    {
      "cell_type": "code",
      "execution_count": null,
      "metadata": {
        "id": "B0xc9y2BQ6gx"
      },
      "outputs": [
        {
          "name": "stdout",
          "output_type": "stream",
          "text": [
            "<class 'pandas.core.frame.DataFrame'>\n",
            "RangeIndex: 112761 entries, 0 to 112760\n",
            "Data columns (total 18 columns):\n",
            " #   Column                         Non-Null Count   Dtype         \n",
            "---  ------                         --------------   -----         \n",
            " 0   order_id                       112761 non-null  object        \n",
            " 1   product_id                     112761 non-null  object        \n",
            " 2   seller_id                      112761 non-null  object        \n",
            " 3   price                          112761 non-null  float64       \n",
            " 4   product_category_name          112761 non-null  object        \n",
            " 5   product_category_name_english  112761 non-null  object        \n",
            " 6   customer_id                    112761 non-null  object        \n",
            " 7   order_status                   112761 non-null  object        \n",
            " 8   order_purchase_timestamp       112761 non-null  datetime64[ns]\n",
            " 9   review_id                      111836 non-null  object        \n",
            " 10  review_score                   111836 non-null  float64       \n",
            " 11  seller_zip_code_prefix         112761 non-null  int64         \n",
            " 12  seller_city                    112761 non-null  object        \n",
            " 13  seller_state                   112761 non-null  object        \n",
            " 14  customer_unique_id             112761 non-null  object        \n",
            " 15  customer_zip_code_prefix       112761 non-null  int64         \n",
            " 16  customer_city                  112761 non-null  object        \n",
            " 17  customer_state                 112761 non-null  object        \n",
            "dtypes: datetime64[ns](1), float64(2), int64(2), object(13)\n",
            "memory usage: 15.5+ MB\n"
          ]
        }
      ],
      "source": [
        "all_df = pd.merge(\n",
        "    left=order_product_sellers_df,\n",
        "    right=customers_df,\n",
        "    how='left',\n",
        "    left_on='customer_id',\n",
        "    right_on='customer_id'\n",
        ")\n",
        "\n",
        "all_df.info()"
      ]
    },
    {
      "cell_type": "code",
      "execution_count": null,
      "metadata": {
        "id": "4Ihgm7r-Qljo"
      },
      "outputs": [
        {
          "data": {
            "text/html": [
              "<div>\n",
              "<style scoped>\n",
              "    .dataframe tbody tr th:only-of-type {\n",
              "        vertical-align: middle;\n",
              "    }\n",
              "\n",
              "    .dataframe tbody tr th {\n",
              "        vertical-align: top;\n",
              "    }\n",
              "\n",
              "    .dataframe thead th {\n",
              "        text-align: right;\n",
              "    }\n",
              "</style>\n",
              "<table border=\"1\" class=\"dataframe\">\n",
              "  <thead>\n",
              "    <tr style=\"text-align: right;\">\n",
              "      <th></th>\n",
              "      <th></th>\n",
              "      <th>customer_id</th>\n",
              "    </tr>\n",
              "    <tr>\n",
              "      <th>customer_state</th>\n",
              "      <th>customer_city</th>\n",
              "      <th></th>\n",
              "    </tr>\n",
              "  </thead>\n",
              "  <tbody>\n",
              "    <tr>\n",
              "      <th>SP</th>\n",
              "      <th>sao paulo</th>\n",
              "      <td>15291</td>\n",
              "    </tr>\n",
              "    <tr>\n",
              "      <th>RJ</th>\n",
              "      <th>rio de janeiro</th>\n",
              "      <td>6800</td>\n",
              "    </tr>\n",
              "    <tr>\n",
              "      <th>MG</th>\n",
              "      <th>belo horizonte</th>\n",
              "      <td>2737</td>\n",
              "    </tr>\n",
              "    <tr>\n",
              "      <th>DF</th>\n",
              "      <th>brasilia</th>\n",
              "      <td>2111</td>\n",
              "    </tr>\n",
              "    <tr>\n",
              "      <th>PR</th>\n",
              "      <th>curitiba</th>\n",
              "      <td>1502</td>\n",
              "    </tr>\n",
              "    <tr>\n",
              "      <th>...</th>\n",
              "      <th>...</th>\n",
              "      <td>...</td>\n",
              "    </tr>\n",
              "    <tr>\n",
              "      <th rowspan=\"2\" valign=\"top\">MG</th>\n",
              "      <th>indianopolis</th>\n",
              "      <td>1</td>\n",
              "    </tr>\n",
              "    <tr>\n",
              "      <th>ingai</th>\n",
              "      <td>1</td>\n",
              "    </tr>\n",
              "    <tr>\n",
              "      <th rowspan=\"2\" valign=\"top\">RS</th>\n",
              "      <th>capivari do sul</th>\n",
              "      <td>1</td>\n",
              "    </tr>\n",
              "    <tr>\n",
              "      <th>capitao</th>\n",
              "      <td>1</td>\n",
              "    </tr>\n",
              "    <tr>\n",
              "      <th>AC</th>\n",
              "      <th>brasileia</th>\n",
              "      <td>1</td>\n",
              "    </tr>\n",
              "  </tbody>\n",
              "</table>\n",
              "<p>4299 rows × 1 columns</p>\n",
              "</div>"
            ],
            "text/plain": [
              "                                customer_id\n",
              "customer_state customer_city               \n",
              "SP             sao paulo              15291\n",
              "RJ             rio de janeiro          6800\n",
              "MG             belo horizonte          2737\n",
              "DF             brasilia                2111\n",
              "PR             curitiba                1502\n",
              "...                                     ...\n",
              "MG             indianopolis               1\n",
              "               ingai                      1\n",
              "RS             capivari do sul            1\n",
              "               capitao                    1\n",
              "AC             brasileia                  1\n",
              "\n",
              "[4299 rows x 1 columns]"
            ]
          },
          "execution_count": 226,
          "metadata": {},
          "output_type": "execute_result"
        }
      ],
      "source": [
        "\n",
        "all_df.groupby(by=['customer_state', 'customer_city']).agg({\n",
        "    'customer_id' : 'nunique'\n",
        "}).sort_values(by='customer_id', ascending=False)"
      ]
    },
    {
      "cell_type": "code",
      "execution_count": null,
      "metadata": {
        "id": "DRvYFzDQR3Bx"
      },
      "outputs": [
        {
          "data": {
            "text/html": [
              "<div>\n",
              "<style scoped>\n",
              "    .dataframe tbody tr th:only-of-type {\n",
              "        vertical-align: middle;\n",
              "    }\n",
              "\n",
              "    .dataframe tbody tr th {\n",
              "        vertical-align: top;\n",
              "    }\n",
              "\n",
              "    .dataframe thead th {\n",
              "        text-align: right;\n",
              "    }\n",
              "</style>\n",
              "<table border=\"1\" class=\"dataframe\">\n",
              "  <thead>\n",
              "    <tr style=\"text-align: right;\">\n",
              "      <th></th>\n",
              "      <th></th>\n",
              "      <th></th>\n",
              "      <th>order_id</th>\n",
              "      <th>product_id</th>\n",
              "    </tr>\n",
              "    <tr>\n",
              "      <th>customer_state</th>\n",
              "      <th>customer_city</th>\n",
              "      <th>product_category_name_english</th>\n",
              "      <th></th>\n",
              "      <th></th>\n",
              "    </tr>\n",
              "  </thead>\n",
              "  <tbody>\n",
              "    <tr>\n",
              "      <th rowspan=\"5\" valign=\"top\">SP</th>\n",
              "      <th rowspan=\"5\" valign=\"top\">sao paulo</th>\n",
              "      <th>bed_bath_table</th>\n",
              "      <td>1647</td>\n",
              "      <td>2022</td>\n",
              "    </tr>\n",
              "    <tr>\n",
              "      <th>health_beauty</th>\n",
              "      <td>1522</td>\n",
              "      <td>1745</td>\n",
              "    </tr>\n",
              "    <tr>\n",
              "      <th>sports_leisure</th>\n",
              "      <td>1250</td>\n",
              "      <td>1396</td>\n",
              "    </tr>\n",
              "    <tr>\n",
              "      <th>housewares</th>\n",
              "      <td>1099</td>\n",
              "      <td>1315</td>\n",
              "    </tr>\n",
              "    <tr>\n",
              "      <th>computers_accessories</th>\n",
              "      <td>997</td>\n",
              "      <td>1223</td>\n",
              "    </tr>\n",
              "    <tr>\n",
              "      <th>...</th>\n",
              "      <th>...</th>\n",
              "      <th>...</th>\n",
              "      <td>...</td>\n",
              "      <td>...</td>\n",
              "    </tr>\n",
              "    <tr>\n",
              "      <th rowspan=\"4\" valign=\"top\">PB</th>\n",
              "      <th>pombal</th>\n",
              "      <th>bed_bath_table</th>\n",
              "      <td>1</td>\n",
              "      <td>1</td>\n",
              "    </tr>\n",
              "    <tr>\n",
              "      <th rowspan=\"3\" valign=\"top\">pocinhos</th>\n",
              "      <th>sports_leisure</th>\n",
              "      <td>1</td>\n",
              "      <td>2</td>\n",
              "    </tr>\n",
              "    <tr>\n",
              "      <th>electronics</th>\n",
              "      <td>1</td>\n",
              "      <td>1</td>\n",
              "    </tr>\n",
              "    <tr>\n",
              "      <th>cool_stuff</th>\n",
              "      <td>1</td>\n",
              "      <td>1</td>\n",
              "    </tr>\n",
              "    <tr>\n",
              "      <th>TO</th>\n",
              "      <th>xambioa</th>\n",
              "      <th>health_beauty</th>\n",
              "      <td>1</td>\n",
              "      <td>1</td>\n",
              "    </tr>\n",
              "  </tbody>\n",
              "</table>\n",
              "<p>25846 rows × 2 columns</p>\n",
              "</div>"
            ],
            "text/plain": [
              "                                                            order_id  \\\n",
              "customer_state customer_city product_category_name_english             \n",
              "SP             sao paulo     bed_bath_table                     1647   \n",
              "                             health_beauty                      1522   \n",
              "                             sports_leisure                     1250   \n",
              "                             housewares                         1099   \n",
              "                             computers_accessories               997   \n",
              "...                                                              ...   \n",
              "PB             pombal        bed_bath_table                        1   \n",
              "               pocinhos      sports_leisure                        1   \n",
              "                             electronics                           1   \n",
              "                             cool_stuff                            1   \n",
              "TO             xambioa       health_beauty                         1   \n",
              "\n",
              "                                                            product_id  \n",
              "customer_state customer_city product_category_name_english              \n",
              "SP             sao paulo     bed_bath_table                       2022  \n",
              "                             health_beauty                        1745  \n",
              "                             sports_leisure                       1396  \n",
              "                             housewares                           1315  \n",
              "                             computers_accessories                1223  \n",
              "...                                                                ...  \n",
              "PB             pombal        bed_bath_table                          1  \n",
              "               pocinhos      sports_leisure                          2  \n",
              "                             electronics                             1  \n",
              "                             cool_stuff                              1  \n",
              "TO             xambioa       health_beauty                           1  \n",
              "\n",
              "[25846 rows x 2 columns]"
            ]
          },
          "execution_count": 227,
          "metadata": {},
          "output_type": "execute_result"
        }
      ],
      "source": [
        "all_df.groupby(by=['customer_state', 'customer_city', 'product_category_name_english']).agg({\n",
        "     'order_id' : 'nunique',\n",
        "     'product_id' : 'count'\n",
        "}).sort_values(by='order_id', ascending=False)"
      ]
    },
    {
      "cell_type": "code",
      "execution_count": null,
      "metadata": {
        "id": "ik_5PCfKYTT4"
      },
      "outputs": [
        {
          "data": {
            "text/html": [
              "<div>\n",
              "<style scoped>\n",
              "    .dataframe tbody tr th:only-of-type {\n",
              "        vertical-align: middle;\n",
              "    }\n",
              "\n",
              "    .dataframe tbody tr th {\n",
              "        vertical-align: top;\n",
              "    }\n",
              "\n",
              "    .dataframe thead th {\n",
              "        text-align: right;\n",
              "    }\n",
              "</style>\n",
              "<table border=\"1\" class=\"dataframe\">\n",
              "  <thead>\n",
              "    <tr style=\"text-align: right;\">\n",
              "      <th></th>\n",
              "      <th>customer_id</th>\n",
              "      <th>frequency</th>\n",
              "      <th>monetary</th>\n",
              "      <th>recency</th>\n",
              "    </tr>\n",
              "  </thead>\n",
              "  <tbody>\n",
              "    <tr>\n",
              "      <th>0</th>\n",
              "      <td>00012a2ce6f8dcda20d059ce98491703</td>\n",
              "      <td>1</td>\n",
              "      <td>89.8</td>\n",
              "      <td>337</td>\n",
              "    </tr>\n",
              "    <tr>\n",
              "      <th>65470</th>\n",
              "      <td>aa5e0a0c36015d39de864189a2b00b09</td>\n",
              "      <td>1</td>\n",
              "      <td>76.0</td>\n",
              "      <td>64</td>\n",
              "    </tr>\n",
              "    <tr>\n",
              "      <th>65469</th>\n",
              "      <td>aa5dfb0872b3828aa250acb54d387266</td>\n",
              "      <td>1</td>\n",
              "      <td>219.9</td>\n",
              "      <td>502</td>\n",
              "    </tr>\n",
              "    <tr>\n",
              "      <th>65468</th>\n",
              "      <td>aa5de1c726fedb2c495cea4ead03d6d8</td>\n",
              "      <td>1</td>\n",
              "      <td>63.9</td>\n",
              "      <td>392</td>\n",
              "    </tr>\n",
              "    <tr>\n",
              "      <th>65467</th>\n",
              "      <td>aa5d81c64ac61c8124eb6c249c2c2ca5</td>\n",
              "      <td>1</td>\n",
              "      <td>110.0</td>\n",
              "      <td>401</td>\n",
              "    </tr>\n",
              "  </tbody>\n",
              "</table>\n",
              "</div>"
            ],
            "text/plain": [
              "                            customer_id  frequency  monetary  recency\n",
              "0      00012a2ce6f8dcda20d059ce98491703          1      89.8      337\n",
              "65470  aa5e0a0c36015d39de864189a2b00b09          1      76.0       64\n",
              "65469  aa5dfb0872b3828aa250acb54d387266          1     219.9      502\n",
              "65468  aa5de1c726fedb2c495cea4ead03d6d8          1      63.9      392\n",
              "65467  aa5d81c64ac61c8124eb6c249c2c2ca5          1     110.0      401"
            ]
          },
          "execution_count": 228,
          "metadata": {},
          "output_type": "execute_result"
        }
      ],
      "source": [
        "# RFM Analysis\n",
        "\n",
        "rfm_df = all_df.groupby(by='customer_id', as_index=False).agg({\n",
        "    'order_purchase_timestamp' : 'max',\n",
        "    'order_id' : 'nunique',\n",
        "    'price' : 'sum'\n",
        "})\n",
        "\n",
        "rfm_df.columns = ['customer_id', 'max_order_timestamp', 'frequency', 'monetary']\n",
        "\n",
        "rfm_df['max_order_timestamp'] = rfm_df['max_order_timestamp'].dt.date\n",
        "recent_date = orders_df['order_purchase_timestamp'].dt.date.max()\n",
        "rfm_df['recency'] = rfm_df['max_order_timestamp'].apply(lambda x: (recent_date - x).days)\n",
        "\n",
        "rfm_df.drop(['max_order_timestamp'], axis=1, inplace=True)\n",
        "\n",
        "rfm_df.sort_values(by='frequency', ascending=True).head()"
      ]
    },
    {
      "cell_type": "markdown",
      "metadata": {
        "id": "YZEwTGpJ3c74"
      },
      "source": [
        "## Visualization & Explanatory Data"
      ]
    },
    {
      "cell_type": "markdown",
      "metadata": {
        "id": "y0IGzJWG3q0t"
      },
      "source": [
        "### Pertanyaan 1"
      ]
    },
    {
      "cell_type": "code",
      "execution_count": null,
      "metadata": {
        "colab": {
          "base_uri": "https://localhost:8080/",
          "height": 833
        },
        "id": "O-UVOBezpldw",
        "outputId": "f5ed306e-a138-41cf-b8ca-d430a5104f95"
      },
      "outputs": [
        {
          "name": "stderr",
          "output_type": "stream",
          "text": [
            "C:\\Users\\erky\\AppData\\Local\\Temp\\ipykernel_776\\875959161.py:1: FutureWarning: 'M' is deprecated and will be removed in a future version, please use 'ME' instead.\n",
            "  monthly_orders_df = all_df.resample(rule='M', on='order_purchase_timestamp').agg({\n"
          ]
        },
        {
          "data": {
            "text/html": [
              "<div>\n",
              "<style scoped>\n",
              "    .dataframe tbody tr th:only-of-type {\n",
              "        vertical-align: middle;\n",
              "    }\n",
              "\n",
              "    .dataframe tbody tr th {\n",
              "        vertical-align: top;\n",
              "    }\n",
              "\n",
              "    .dataframe thead th {\n",
              "        text-align: right;\n",
              "    }\n",
              "</style>\n",
              "<table border=\"1\" class=\"dataframe\">\n",
              "  <thead>\n",
              "    <tr style=\"text-align: right;\">\n",
              "      <th></th>\n",
              "      <th>order_purchase_timestamp</th>\n",
              "      <th>order_count</th>\n",
              "      <th>revenue</th>\n",
              "    </tr>\n",
              "  </thead>\n",
              "  <tbody>\n",
              "    <tr>\n",
              "      <th>0</th>\n",
              "      <td>September 2016</td>\n",
              "      <td>2</td>\n",
              "      <td>207.86</td>\n",
              "    </tr>\n",
              "    <tr>\n",
              "      <th>1</th>\n",
              "      <td>October 2016</td>\n",
              "      <td>290</td>\n",
              "      <td>44633.99</td>\n",
              "    </tr>\n",
              "    <tr>\n",
              "      <th>2</th>\n",
              "      <td>November 2016</td>\n",
              "      <td>0</td>\n",
              "      <td>0.00</td>\n",
              "    </tr>\n",
              "    <tr>\n",
              "      <th>3</th>\n",
              "      <td>December 2016</td>\n",
              "      <td>1</td>\n",
              "      <td>10.90</td>\n",
              "    </tr>\n",
              "    <tr>\n",
              "      <th>4</th>\n",
              "      <td>January 2017</td>\n",
              "      <td>787</td>\n",
              "      <td>120873.30</td>\n",
              "    </tr>\n",
              "    <tr>\n",
              "      <th>5</th>\n",
              "      <td>February 2017</td>\n",
              "      <td>1718</td>\n",
              "      <td>246219.35</td>\n",
              "    </tr>\n",
              "    <tr>\n",
              "      <th>6</th>\n",
              "      <td>March 2017</td>\n",
              "      <td>2617</td>\n",
              "      <td>370007.72</td>\n",
              "    </tr>\n",
              "    <tr>\n",
              "      <th>7</th>\n",
              "      <td>April 2017</td>\n",
              "      <td>2377</td>\n",
              "      <td>354653.92</td>\n",
              "    </tr>\n",
              "    <tr>\n",
              "      <th>8</th>\n",
              "      <td>May 2017</td>\n",
              "      <td>3640</td>\n",
              "      <td>506441.38</td>\n",
              "    </tr>\n",
              "    <tr>\n",
              "      <th>9</th>\n",
              "      <td>June 2017</td>\n",
              "      <td>3205</td>\n",
              "      <td>433428.90</td>\n",
              "    </tr>\n",
              "    <tr>\n",
              "      <th>10</th>\n",
              "      <td>July 2017</td>\n",
              "      <td>3946</td>\n",
              "      <td>495555.52</td>\n",
              "    </tr>\n",
              "    <tr>\n",
              "      <th>11</th>\n",
              "      <td>August 2017</td>\n",
              "      <td>4272</td>\n",
              "      <td>572863.10</td>\n",
              "    </tr>\n",
              "    <tr>\n",
              "      <th>12</th>\n",
              "      <td>September 2017</td>\n",
              "      <td>4227</td>\n",
              "      <td>623766.39</td>\n",
              "    </tr>\n",
              "    <tr>\n",
              "      <th>13</th>\n",
              "      <td>October 2017</td>\n",
              "      <td>4547</td>\n",
              "      <td>663829.34</td>\n",
              "    </tr>\n",
              "    <tr>\n",
              "      <th>14</th>\n",
              "      <td>November 2017</td>\n",
              "      <td>7421</td>\n",
              "      <td>1011349.60</td>\n",
              "    </tr>\n",
              "    <tr>\n",
              "      <th>15</th>\n",
              "      <td>December 2017</td>\n",
              "      <td>5618</td>\n",
              "      <td>744986.77</td>\n",
              "    </tr>\n",
              "    <tr>\n",
              "      <th>16</th>\n",
              "      <td>January 2018</td>\n",
              "      <td>7187</td>\n",
              "      <td>951014.77</td>\n",
              "    </tr>\n",
              "    <tr>\n",
              "      <th>17</th>\n",
              "      <td>February 2018</td>\n",
              "      <td>6624</td>\n",
              "      <td>847178.93</td>\n",
              "    </tr>\n",
              "    <tr>\n",
              "      <th>18</th>\n",
              "      <td>March 2018</td>\n",
              "      <td>7168</td>\n",
              "      <td>984704.67</td>\n",
              "    </tr>\n",
              "    <tr>\n",
              "      <th>19</th>\n",
              "      <td>April 2018</td>\n",
              "      <td>6919</td>\n",
              "      <td>995838.30</td>\n",
              "    </tr>\n",
              "    <tr>\n",
              "      <th>20</th>\n",
              "      <td>May 2018</td>\n",
              "      <td>6833</td>\n",
              "      <td>993420.73</td>\n",
              "    </tr>\n",
              "    <tr>\n",
              "      <th>21</th>\n",
              "      <td>June 2018</td>\n",
              "      <td>6145</td>\n",
              "      <td>864097.46</td>\n",
              "    </tr>\n",
              "    <tr>\n",
              "      <th>22</th>\n",
              "      <td>July 2018</td>\n",
              "      <td>6233</td>\n",
              "      <td>880033.19</td>\n",
              "    </tr>\n",
              "    <tr>\n",
              "      <th>23</th>\n",
              "      <td>August 2018</td>\n",
              "      <td>6421</td>\n",
              "      <td>848934.22</td>\n",
              "    </tr>\n",
              "    <tr>\n",
              "      <th>24</th>\n",
              "      <td>September 2018</td>\n",
              "      <td>1</td>\n",
              "      <td>145.00</td>\n",
              "    </tr>\n",
              "  </tbody>\n",
              "</table>\n",
              "</div>"
            ],
            "text/plain": [
              "   order_purchase_timestamp  order_count     revenue\n",
              "0            September 2016            2      207.86\n",
              "1              October 2016          290    44633.99\n",
              "2             November 2016            0        0.00\n",
              "3             December 2016            1       10.90\n",
              "4              January 2017          787   120873.30\n",
              "5             February 2017         1718   246219.35\n",
              "6                March 2017         2617   370007.72\n",
              "7                April 2017         2377   354653.92\n",
              "8                  May 2017         3640   506441.38\n",
              "9                 June 2017         3205   433428.90\n",
              "10                July 2017         3946   495555.52\n",
              "11              August 2017         4272   572863.10\n",
              "12           September 2017         4227   623766.39\n",
              "13             October 2017         4547   663829.34\n",
              "14            November 2017         7421  1011349.60\n",
              "15            December 2017         5618   744986.77\n",
              "16             January 2018         7187   951014.77\n",
              "17            February 2018         6624   847178.93\n",
              "18               March 2018         7168   984704.67\n",
              "19               April 2018         6919   995838.30\n",
              "20                 May 2018         6833   993420.73\n",
              "21                June 2018         6145   864097.46\n",
              "22                July 2018         6233   880033.19\n",
              "23              August 2018         6421   848934.22\n",
              "24           September 2018            1      145.00"
            ]
          },
          "execution_count": 229,
          "metadata": {},
          "output_type": "execute_result"
        }
      ],
      "source": [
        "monthly_orders_df = all_df.resample(rule='M', on='order_purchase_timestamp').agg({\n",
        "    'order_id' : 'nunique',\n",
        "    'price' : 'sum'\n",
        "})\n",
        "\n",
        "monthly_orders_df.index = monthly_orders_df.index.strftime('%B %Y')\n",
        "monthly_orders_df = monthly_orders_df.reset_index()\n",
        "monthly_orders_df.rename(columns={\n",
        "    'order_id' : 'order_count',\n",
        "    'price' : 'revenue'\n",
        "}, inplace=True)\n",
        "monthly_orders_df.sort_index()"
      ]
    },
    {
      "cell_type": "code",
      "execution_count": null,
      "metadata": {
        "colab": {
          "base_uri": "https://localhost:8080/",
          "height": 273
        },
        "id": "-jS6vJWSrjKO",
        "outputId": "9c8d285b-f07b-4e33-b9aa-23c1dcc2d4d1"
      },
      "outputs": [
        {
          "data": {
            "image/png": "[encoded data removed]",
            "text/plain": [
              "<Figure size 2400x600 with 1 Axes>"
            ]
          },
          "metadata": {},
          "output_type": "display_data"
        }
      ],
      "source": [
        "plt.figure(figsize=(24,6))\n",
        "\n",
        "plt.plot(\n",
        "    monthly_orders_df['order_purchase_timestamp'],\n",
        "    monthly_orders_df['revenue'],\n",
        "    marker='o',\n",
        "    linewidth=2,\n",
        "    color='#387F39'\n",
        ")\n",
        "plt.title('Total Revenue September 2016 -  September 2018 (Million $)', loc='center', fontsize=20)\n",
        "plt.xticks(rotation=45, fontsize=12)\n",
        "plt.yticks(fontsize=12)\n",
        "\n",
        "plt.show()"
      ]
    },
    {
      "cell_type": "code",
      "execution_count": null,
      "metadata": {
        "colab": {
          "base_uri": "https://localhost:8080/",
          "height": 271
        },
        "id": "-FlLQl-KutU8",
        "outputId": "03ded1b6-913d-4167-8e8a-cb990bec364d"
      },
      "outputs": [
        {
          "data": {
            "image/png": "[encoded data removed]",
            "text/plain": [
              "<Figure size 2400x600 with 1 Axes>"
            ]
          },
          "metadata": {},
          "output_type": "display_data"
        }
      ],
      "source": [
        "plt.figure(figsize=(24,6))\n",
        "\n",
        "plt.plot(\n",
        "    monthly_orders_df['order_purchase_timestamp'],\n",
        "    monthly_orders_df['order_count'],\n",
        "    marker='o',\n",
        "    linewidth=2,\n",
        "    color='#FF8343'\n",
        ")\n",
        "plt.title('Total Orders September 2016 -  September 2018', loc='center', fontsize=20)\n",
        "plt.xticks(rotation=45, fontsize=12)\n",
        "plt.yticks(fontsize=12)\n",
        "plt.show()"
      ]
    },
    {
      "cell_type": "markdown",
      "metadata": {
        "id": "W6kOjJ8v3u-h"
      },
      "source": [
        "### Pertanyaan 2"
      ]
    },
    {
      "cell_type": "code",
      "execution_count": null,
      "metadata": {
        "colab": {
          "base_uri": "https://localhost:8080/",
          "height": 238
        },
        "id": "RmlTFOZh3ui_",
        "outputId": "f9be41ff-4a69-46fd-d7cc-6e8fa51be090"
      },
      "outputs": [
        {
          "data": {
            "text/html": [
              "<div>\n",
              "<style scoped>\n",
              "    .dataframe tbody tr th:only-of-type {\n",
              "        vertical-align: middle;\n",
              "    }\n",
              "\n",
              "    .dataframe tbody tr th {\n",
              "        vertical-align: top;\n",
              "    }\n",
              "\n",
              "    .dataframe thead th {\n",
              "        text-align: right;\n",
              "    }\n",
              "</style>\n",
              "<table border=\"1\" class=\"dataframe\">\n",
              "  <thead>\n",
              "    <tr style=\"text-align: right;\">\n",
              "      <th></th>\n",
              "      <th>order_count</th>\n",
              "      <th>product_id</th>\n",
              "      <th>price</th>\n",
              "    </tr>\n",
              "    <tr>\n",
              "      <th>product_category_name_english</th>\n",
              "      <th></th>\n",
              "      <th></th>\n",
              "      <th></th>\n",
              "    </tr>\n",
              "  </thead>\n",
              "  <tbody>\n",
              "    <tr>\n",
              "      <th>bed_bath_table</th>\n",
              "      <td>9399</td>\n",
              "      <td>11252</td>\n",
              "      <td>1049911.99</td>\n",
              "    </tr>\n",
              "    <tr>\n",
              "      <th>health_beauty</th>\n",
              "      <td>8800</td>\n",
              "      <td>9691</td>\n",
              "      <td>1260152.33</td>\n",
              "    </tr>\n",
              "    <tr>\n",
              "      <th>sports_leisure</th>\n",
              "      <td>7673</td>\n",
              "      <td>8649</td>\n",
              "      <td>985348.46</td>\n",
              "    </tr>\n",
              "    <tr>\n",
              "      <th>computers_accessories</th>\n",
              "      <td>6654</td>\n",
              "      <td>7848</td>\n",
              "      <td>912008.24</td>\n",
              "    </tr>\n",
              "    <tr>\n",
              "      <th>furniture_decor</th>\n",
              "      <td>6425</td>\n",
              "      <td>8378</td>\n",
              "      <td>733915.13</td>\n",
              "    </tr>\n",
              "  </tbody>\n",
              "</table>\n",
              "</div>"
            ],
            "text/plain": [
              "                               order_count  product_id       price\n",
              "product_category_name_english                                     \n",
              "bed_bath_table                        9399       11252  1049911.99\n",
              "health_beauty                         8800        9691  1260152.33\n",
              "sports_leisure                        7673        8649   985348.46\n",
              "computers_accessories                 6654        7848   912008.24\n",
              "furniture_decor                       6425        8378   733915.13"
            ]
          },
          "execution_count": 232,
          "metadata": {},
          "output_type": "execute_result"
        }
      ],
      "source": [
        "# Pertanyaan 2\n",
        "\n",
        "best_products_df = all_df.groupby(by='product_category_name_english').agg({\n",
        "    'order_id' : 'nunique',\n",
        "    'product_id' : 'count',\n",
        "    'price' : 'sum'\n",
        "})\n",
        "\n",
        "best_products_df.rename(columns={\n",
        "    'order_id' : 'order_count'\n",
        "}, inplace=True)\n",
        "\n",
        "best_products_df.sort_values(by='order_count', ascending=False).head(5)"
      ]
    },
    {
      "cell_type": "code",
      "execution_count": null,
      "metadata": {
        "colab": {
          "base_uri": "https://localhost:8080/",
          "height": 776
        },
        "id": "OTpj3ecDxGBT",
        "outputId": "6e962baf-a8c1-4c96-c35c-630ac50a3532"
      },
      "outputs": [
        {
          "name": "stderr",
          "output_type": "stream",
          "text": [
            "C:\\Users\\erky\\AppData\\Local\\Temp\\ipykernel_776\\1477823415.py:5: FutureWarning: \n",
            "\n",
            "Passing `palette` without assigning `hue` is deprecated and will be removed in v0.14.0. Assign the `y` variable to `hue` and set `legend=False` for the same effect.\n",
            "\n",
            "  sns.barplot(\n",
            "C:\\Users\\erky\\AppData\\Local\\Temp\\ipykernel_776\\1477823415.py:19: FutureWarning: \n",
            "\n",
            "Passing `palette` without assigning `hue` is deprecated and will be removed in v0.14.0. Assign the `y` variable to `hue` and set `legend=False` for the same effect.\n",
            "\n",
            "  sns.barplot(\n"
          ]
        },
        {
          "data": {
            "image/png": "[encoded data removed]",
            "text/plain": [
              "<Figure size 2400x600 with 2 Axes>"
            ]
          },
          "metadata": {},
          "output_type": "display_data"
        }
      ],
      "source": [
        "colors = ['#387F39', '#BEDC74', '#BEDC74', '#BEDC74', '#BEDC74']\n",
        "\n",
        "fig, ax = plt.subplots(nrows=1, ncols=2, figsize=(24,6))\n",
        "\n",
        "sns.barplot(\n",
        "    data=best_products_df.sort_values(by='order_count', ascending=False).head(5),\n",
        "    y='product_category_name_english',\n",
        "    x='order_count',\n",
        "    ax=ax[0],\n",
        "    orient='h',\n",
        "    palette=colors\n",
        ")\n",
        "ax[0].set_title('Best Performance Products', loc='center', fontsize=15)\n",
        "ax[0].set_xlabel(None)\n",
        "ax[0].set_ylabel(None)\n",
        "ax[0].tick_params(axis='y', labelsize=12)\n",
        "\n",
        "\n",
        "sns.barplot(\n",
        "    data=best_products_df.sort_values(by='order_count', ascending=True).head(5),\n",
        "    y='product_category_name_english',\n",
        "    x='order_count',\n",
        "    ax=ax[1],\n",
        "    orient='h',\n",
        "    palette=colors\n",
        ")\n",
        "ax[1].set_title('Worst Performance Products', loc='center', fontsize=15)\n",
        "ax[1].invert_xaxis()\n",
        "ax[1].yaxis.tick_right()\n",
        "ax[1].yaxis.set_label_position('right')\n",
        "ax[1].set_xlabel(None)\n",
        "ax[1].set_ylabel(None)\n",
        "ax[1].tick_params(axis='y', labelsize=12)\n",
        "\n",
        "plt.suptitle('5 Best & Worst Performance Products by Number Of Sales',  fontsize=20)\n",
        "plt.show()"
      ]
    },
    {
      "cell_type": "markdown",
      "metadata": {
        "id": "Mkhz9fmI3IxU"
      },
      "source": [
        "### Pertanyaan 3"
      ]
    },
    {
      "cell_type": "code",
      "execution_count": null,
      "metadata": {
        "colab": {
          "base_uri": "https://localhost:8080/",
          "height": 206
        },
        "id": "jbZb0_C33xGV",
        "outputId": "6e80dd41-9d63-4d84-dc35-223d689a9d4d"
      },
      "outputs": [
        {
          "data": {
            "text/html": [
              "<div>\n",
              "<style scoped>\n",
              "    .dataframe tbody tr th:only-of-type {\n",
              "        vertical-align: middle;\n",
              "    }\n",
              "\n",
              "    .dataframe tbody tr th {\n",
              "        vertical-align: top;\n",
              "    }\n",
              "\n",
              "    .dataframe thead th {\n",
              "        text-align: right;\n",
              "    }\n",
              "</style>\n",
              "<table border=\"1\" class=\"dataframe\">\n",
              "  <thead>\n",
              "    <tr style=\"text-align: right;\">\n",
              "      <th></th>\n",
              "      <th>seller_id</th>\n",
              "      <th>order_count</th>\n",
              "      <th>revenue</th>\n",
              "      <th>review_score</th>\n",
              "    </tr>\n",
              "  </thead>\n",
              "  <tbody>\n",
              "    <tr>\n",
              "      <th>1219</th>\n",
              "      <td>6560211a19b47992c3666cc44a7e94c0</td>\n",
              "      <td>1847</td>\n",
              "      <td>123057.82</td>\n",
              "      <td>3.920477</td>\n",
              "    </tr>\n",
              "    <tr>\n",
              "      <th>873</th>\n",
              "      <td>4a3ca9315b744ce9f8e9374361493884</td>\n",
              "      <td>1804</td>\n",
              "      <td>202852.32</td>\n",
              "      <td>3.804743</td>\n",
              "    </tr>\n",
              "    <tr>\n",
              "      <th>2451</th>\n",
              "      <td>cc419e0650a3c5ba77189a1882b7556a</td>\n",
              "      <td>1697</td>\n",
              "      <td>105902.07</td>\n",
              "      <td>4.083796</td>\n",
              "    </tr>\n",
              "    <tr>\n",
              "      <th>366</th>\n",
              "      <td>1f50f920176fa81dab994f9023523100</td>\n",
              "      <td>1403</td>\n",
              "      <td>107381.51</td>\n",
              "      <td>3.983946</td>\n",
              "    </tr>\n",
              "    <tr>\n",
              "      <th>2611</th>\n",
              "      <td>da8622b14eb17ae2831f4ac5b9dab84a</td>\n",
              "      <td>1314</td>\n",
              "      <td>162723.37</td>\n",
              "      <td>4.071429</td>\n",
              "    </tr>\n",
              "  </tbody>\n",
              "</table>\n",
              "</div>"
            ],
            "text/plain": [
              "                             seller_id  order_count    revenue  review_score\n",
              "1219  6560211a19b47992c3666cc44a7e94c0         1847  123057.82      3.920477\n",
              "873   4a3ca9315b744ce9f8e9374361493884         1804  202852.32      3.804743\n",
              "2451  cc419e0650a3c5ba77189a1882b7556a         1697  105902.07      4.083796\n",
              "366   1f50f920176fa81dab994f9023523100         1403  107381.51      3.983946\n",
              "2611  da8622b14eb17ae2831f4ac5b9dab84a         1314  162723.37      4.071429"
            ]
          },
          "execution_count": 234,
          "metadata": {},
          "output_type": "execute_result"
        }
      ],
      "source": [
        "best_sellers_df = order_product_sellers_df.groupby(by= 'seller_id', as_index=False).agg({\n",
        "    'order_id' : 'nunique',\n",
        "    'price' : 'sum',\n",
        "    'review_score' : 'mean'\n",
        "})\n",
        "\n",
        "best_sellers_df.rename(columns={\n",
        "    'order_id' : 'order_count',\n",
        "    'price' : 'revenue',\n",
        "}, inplace=True)\n",
        "\n",
        "best_sellers_df.sort_values(by='order_count', ascending=False).head(5)"
      ]
    },
    {
      "cell_type": "code",
      "execution_count": null,
      "metadata": {
        "colab": {
          "base_uri": "https://localhost:8080/",
          "height": 206
        },
        "id": "goxK19uR4QJ3",
        "outputId": "a13b2a31-8c00-469c-9be7-6f5073f34e01"
      },
      "outputs": [],
      "source": [
        "best_sellers_df.sort_values(by='revenue', ascending=False).head(5)"
      ]
    },
    {
      "cell_type": "code",
      "execution_count": null,
      "metadata": {
        "colab": {
          "base_uri": "https://localhost:8080/",
          "height": 206
        },
        "id": "0QQoDsmz4X_V",
        "outputId": "be4f7cd0-211a-4cbf-e900-bc8a0cc14e92"
      },
      "outputs": [],
      "source": [
        "best_sellers_df.sort_values(by='review_score', ascending=False).head(5)"
      ]
    },
    {
      "cell_type": "code",
      "execution_count": null,
      "metadata": {
        "colab": {
          "base_uri": "https://localhost:8080/",
          "height": 81
        },
        "id": "e3oEPS2a-M0D",
        "outputId": "f3ecb454-d772-44e7-a032-b5ddf32b14a1"
      },
      "outputs": [],
      "source": [
        "best_sellers_df[best_sellers_df.seller_id == '1fa2d3def6adfa70e58c276bb64fe5bb']"
      ]
    },
    {
      "cell_type": "code",
      "execution_count": null,
      "metadata": {
        "colab": {
          "base_uri": "https://localhost:8080/",
          "height": 424
        },
        "id": "g19Mdw-Q4YFv",
        "outputId": "63badda3-afc2-4838-b9b3-4496b5297e81"
      },
      "outputs": [],
      "source": [
        "best_sellers_df.sort_values(by=['revenue', 'review_score'], ascending=False)"
      ]
    },
    {
      "cell_type": "code",
      "execution_count": null,
      "metadata": {
        "colab": {
          "base_uri": "https://localhost:8080/",
          "height": 424
        },
        "id": "ru-bM56D7RGH",
        "outputId": "6816dfb4-4de4-4c68-d896-e06b3d86e4e5"
      },
      "outputs": [
        {
          "data": {
            "text/html": [
              "<div>\n",
              "<style scoped>\n",
              "    .dataframe tbody tr th:only-of-type {\n",
              "        vertical-align: middle;\n",
              "    }\n",
              "\n",
              "    .dataframe tbody tr th {\n",
              "        vertical-align: top;\n",
              "    }\n",
              "\n",
              "    .dataframe thead th {\n",
              "        text-align: right;\n",
              "    }\n",
              "</style>\n",
              "<table border=\"1\" class=\"dataframe\">\n",
              "  <thead>\n",
              "    <tr style=\"text-align: right;\">\n",
              "      <th></th>\n",
              "      <th>seller_id</th>\n",
              "      <th>order_count</th>\n",
              "      <th>revenue</th>\n",
              "      <th>review_score</th>\n",
              "      <th>total_score</th>\n",
              "    </tr>\n",
              "  </thead>\n",
              "  <tbody>\n",
              "    <tr>\n",
              "      <th>873</th>\n",
              "      <td>4a3ca9315b744ce9f8e9374361493884</td>\n",
              "      <td>1804</td>\n",
              "      <td>202852.32</td>\n",
              "      <td>3.804743</td>\n",
              "      <td>30.683744</td>\n",
              "    </tr>\n",
              "    <tr>\n",
              "      <th>849</th>\n",
              "      <td>4869f7a5dfa277a7dca6462dcf3b52b2</td>\n",
              "      <td>1131</td>\n",
              "      <td>229237.63</td>\n",
              "      <td>4.125545</td>\n",
              "      <td>26.537340</td>\n",
              "    </tr>\n",
              "    <tr>\n",
              "      <th>1219</th>\n",
              "      <td>6560211a19b47992c3666cc44a7e94c0</td>\n",
              "      <td>1847</td>\n",
              "      <td>123057.82</td>\n",
              "      <td>3.920477</td>\n",
              "      <td>25.527746</td>\n",
              "    </tr>\n",
              "    <tr>\n",
              "      <th>2611</th>\n",
              "      <td>da8622b14eb17ae2831f4ac5b9dab84a</td>\n",
              "      <td>1314</td>\n",
              "      <td>162723.37</td>\n",
              "      <td>4.071429</td>\n",
              "      <td>23.470071</td>\n",
              "    </tr>\n",
              "    <tr>\n",
              "      <th>2451</th>\n",
              "      <td>cc419e0650a3c5ba77189a1882b7556a</td>\n",
              "      <td>1697</td>\n",
              "      <td>105902.07</td>\n",
              "      <td>4.083796</td>\n",
              "      <td>23.060873</td>\n",
              "    </tr>\n",
              "    <tr>\n",
              "      <th>...</th>\n",
              "      <td>...</td>\n",
              "      <td>...</td>\n",
              "      <td>...</td>\n",
              "      <td>...</td>\n",
              "      <td>...</td>\n",
              "    </tr>\n",
              "    <tr>\n",
              "      <th>2308</th>\n",
              "      <td>c1dde11f12d05c478f5de2d7319ad3b2</td>\n",
              "      <td>1</td>\n",
              "      <td>12.50</td>\n",
              "      <td>1.000000</td>\n",
              "      <td>-3.905608</td>\n",
              "    </tr>\n",
              "    <tr>\n",
              "      <th>2307</th>\n",
              "      <td>c1d1ebb4745cc43cb6f05e9c8a705c9a</td>\n",
              "      <td>1</td>\n",
              "      <td>12.50</td>\n",
              "      <td>1.000000</td>\n",
              "      <td>-3.905608</td>\n",
              "    </tr>\n",
              "    <tr>\n",
              "      <th>2449</th>\n",
              "      <td>cc1f04647be106ba74e62b21f358af25</td>\n",
              "      <td>1</td>\n",
              "      <td>11.90</td>\n",
              "      <td>1.000000</td>\n",
              "      <td>-3.905651</td>\n",
              "    </tr>\n",
              "    <tr>\n",
              "      <th>622</th>\n",
              "      <td>34aefe746cd81b7f3b23253ea28bef39</td>\n",
              "      <td>1</td>\n",
              "      <td>8.00</td>\n",
              "      <td>1.000000</td>\n",
              "      <td>-3.905929</td>\n",
              "    </tr>\n",
              "    <tr>\n",
              "      <th>371</th>\n",
              "      <td>1fa2d3def6adfa70e58c276bb64fe5bb</td>\n",
              "      <td>1</td>\n",
              "      <td>6.90</td>\n",
              "      <td>1.000000</td>\n",
              "      <td>-3.906007</td>\n",
              "    </tr>\n",
              "  </tbody>\n",
              "</table>\n",
              "<p>3053 rows × 5 columns</p>\n",
              "</div>"
            ],
            "text/plain": [
              "                             seller_id  order_count    revenue  review_score  \\\n",
              "873   4a3ca9315b744ce9f8e9374361493884         1804  202852.32      3.804743   \n",
              "849   4869f7a5dfa277a7dca6462dcf3b52b2         1131  229237.63      4.125545   \n",
              "1219  6560211a19b47992c3666cc44a7e94c0         1847  123057.82      3.920477   \n",
              "2611  da8622b14eb17ae2831f4ac5b9dab84a         1314  162723.37      4.071429   \n",
              "2451  cc419e0650a3c5ba77189a1882b7556a         1697  105902.07      4.083796   \n",
              "...                                ...          ...        ...           ...   \n",
              "2308  c1dde11f12d05c478f5de2d7319ad3b2            1      12.50      1.000000   \n",
              "2307  c1d1ebb4745cc43cb6f05e9c8a705c9a            1      12.50      1.000000   \n",
              "2449  cc1f04647be106ba74e62b21f358af25            1      11.90      1.000000   \n",
              "622   34aefe746cd81b7f3b23253ea28bef39            1       8.00      1.000000   \n",
              "371   1fa2d3def6adfa70e58c276bb64fe5bb            1       6.90      1.000000   \n",
              "\n",
              "      total_score  \n",
              "873     30.683744  \n",
              "849     26.537340  \n",
              "1219    25.527746  \n",
              "2611    23.470071  \n",
              "2451    23.060873  \n",
              "...           ...  \n",
              "2308    -3.905608  \n",
              "2307    -3.905608  \n",
              "2449    -3.905651  \n",
              "622     -3.905929  \n",
              "371     -3.906007  \n",
              "\n",
              "[3053 rows x 5 columns]"
            ]
          },
          "execution_count": 235,
          "metadata": {},
          "output_type": "execute_result"
        }
      ],
      "source": [
        "\n",
        "scaler = StandardScaler()\n",
        "best_sellers_normalized_df = best_sellers_df.copy()\n",
        "best_sellers_normalized_df[['order_count', 'revenue', 'review_score']] = scaler.fit_transform(best_sellers_df[['order_count', 'revenue', 'review_score']])\n",
        "best_sellers_df['total_score'] = best_sellers_normalized_df[['order_count', 'revenue', 'review_score']].sum(axis=1)\n",
        "best_sellers_df.sort_values(by='total_score', ascending=False)"
      ]
    },
    {
      "cell_type": "code",
      "execution_count": null,
      "metadata": {
        "colab": {
          "base_uri": "https://localhost:8080/",
          "height": 387
        },
        "id": "jtG3qu8eBlLR",
        "outputId": "4064d058-5805-490b-e5b8-b75579c9e4e6"
      },
      "outputs": [
        {
          "name": "stderr",
          "output_type": "stream",
          "text": [
            "C:\\Users\\erky\\AppData\\Local\\Temp\\ipykernel_776\\28004108.py:3: FutureWarning: \n",
            "\n",
            "Passing `palette` without assigning `hue` is deprecated and will be removed in v0.14.0. Assign the `y` variable to `hue` and set `legend=False` for the same effect.\n",
            "\n",
            "  sns.barplot(\n",
            "C:\\Users\\erky\\AppData\\Local\\Temp\\ipykernel_776\\28004108.py:16: FutureWarning: \n",
            "\n",
            "Passing `palette` without assigning `hue` is deprecated and will be removed in v0.14.0. Assign the `y` variable to `hue` and set `legend=False` for the same effect.\n",
            "\n",
            "  sns.barplot(\n"
          ]
        },
        {
          "data": {
            "image/png": "[encoded data removed]",
            "text/plain": [
              "<Figure size 2400x600 with 2 Axes>"
            ]
          },
          "metadata": {},
          "output_type": "display_data"
        }
      ],
      "source": [
        "fig, ax = plt.subplots(nrows=1, ncols=2, figsize=(24,6))\n",
        "\n",
        "sns.barplot(\n",
        "    data=best_sellers_df.sort_values(by='total_score', ascending=False).head(5),\n",
        "    x='total_score',\n",
        "    y='seller_id',\n",
        "    orient='h',\n",
        "    ax=ax[0],\n",
        "    palette=colors\n",
        ")\n",
        "ax[0].set_title('Best Performance Sellers by Total Score (Sales, Revenue, & Review Score)', loc='center', fontsize=15)\n",
        "ax[0].tick_params(axis='y', labelsize=12)\n",
        "ax[1].set_ylabel(None)\n",
        "\n",
        "\n",
        "sns.barplot(\n",
        "    data=best_sellers_df.sort_values(by='total_score', ascending=True).head(5),\n",
        "    x='total_score',\n",
        "    y='seller_id',\n",
        "    orient='h',\n",
        "    ax=ax[1],\n",
        "    palette=colors\n",
        ")\n",
        "ax[1].set_title('Worst Performance Sellers by Total Score (Sales, Revenue, & Review Score)', loc='center', fontsize=15)\n",
        "\n",
        "ax[1].yaxis.tick_right()\n",
        "ax[1].yaxis.set_label_position('right')\n",
        "ax[1].tick_params(axis='y', labelsize=12)\n",
        "ax[1].set_ylabel(None)\n",
        "\n",
        "plt.suptitle('5 Best & Worst Performance Sellers', fontsize=20)\n",
        "plt.show()"
      ]
    },
    {
      "cell_type": "markdown",
      "metadata": {
        "id": "NNABB5bb2CcT"
      },
      "source": [
        "### Pertanyaan 4"
      ]
    },
    {
      "cell_type": "code",
      "execution_count": null,
      "metadata": {
        "colab": {
          "base_uri": "https://localhost:8080/",
          "height": 526
        },
        "id": "pKQzjeaw7pSn",
        "outputId": "d8d1655c-ab21-4816-b264-90a72fe67b64"
      },
      "outputs": [
        {
          "name": "stderr",
          "output_type": "stream",
          "text": [
            "C:\\Users\\erky\\AppData\\Local\\Temp\\ipykernel_776\\674544365.py:11: FutureWarning: \n",
            "\n",
            "Passing `palette` without assigning `hue` is deprecated and will be removed in v0.14.0. Assign the `y` variable to `hue` and set `legend=False` for the same effect.\n",
            "\n",
            "  sns.barplot(\n"
          ]
        },
        {
          "data": {
            "image/png": "[encoded data removed]",
            "text/plain": [
              "<Figure size 1000x500 with 1 Axes>"
            ]
          },
          "metadata": {},
          "output_type": "display_data"
        }
      ],
      "source": [
        "sellers_city_df = all_df.groupby('seller_city', as_index=False).agg({\n",
        "    'seller_id' : 'nunique'\n",
        "})\n",
        "sellers_city_df.rename(columns={\n",
        "    'seller_id' : 'seller_count'\n",
        "}, inplace=True)\n",
        "\n",
        "colors_ = ['#387F39', '#BEDC74', '#BEDC74', '#BEDC74', '#BEDC74', '#BEDC74', '#BEDC74', '#BEDC74', '#BEDC74', '#BEDC74']\n",
        "fig, ax = plt.subplots(figsize=(10,5))\n",
        "\n",
        "sns.barplot(\n",
        "    data=sellers_city_df.sort_values(by='seller_count', ascending=False).head(10),\n",
        "    x='seller_count',\n",
        "    y='seller_city',\n",
        "    ax=ax,\n",
        "    orient='h',\n",
        "    palette=colors_\n",
        ")\n",
        "ax.set_ylabel(None)\n",
        "ax.set_title('Number of Sellers by City', loc='center', fontsize=20)\n",
        "ax.tick_params(axis='y', labelsize=12)\n",
        "\n",
        "plt.show()"
      ]
    },
    {
      "cell_type": "markdown",
      "metadata": {
        "id": "UlLEpCAc_1lM"
      },
      "source": [
        "### Pertanyaan 5"
      ]
    },
    {
      "cell_type": "code",
      "execution_count": null,
      "metadata": {
        "colab": {
          "base_uri": "https://localhost:8080/",
          "height": 602
        },
        "id": "o3GXRqa3BrFj",
        "outputId": "72f47629-d7b5-42e9-8d91-6e5c4adb4812"
      },
      "outputs": [
        {
          "name": "stderr",
          "output_type": "stream",
          "text": [
            "C:\\Users\\erky\\AppData\\Local\\Temp\\ipykernel_776\\1853376297.py:10: FutureWarning: \n",
            "\n",
            "Passing `palette` without assigning `hue` is deprecated and will be removed in v0.14.0. Assign the `y` variable to `hue` and set `legend=False` for the same effect.\n",
            "\n",
            "  sns.barplot(\n"
          ]
        },
        {
          "data": {
            "image/png": "[encoded data removed]",
            "text/plain": [
              "<Figure size 1000x500 with 1 Axes>"
            ]
          },
          "metadata": {},
          "output_type": "display_data"
        }
      ],
      "source": [
        "customers_city_df = all_df.groupby(by='customer_city', as_index=False).agg({\n",
        "    'customer_id' : 'nunique'\n",
        "})\n",
        "customers_city_df.rename(columns={\n",
        "    'customer_id' : 'customer_count'\n",
        "}, inplace=True)\n",
        "\n",
        "fig, ax = plt.subplots(figsize=(10,5))\n",
        "\n",
        "sns.barplot(\n",
        "    data=customers_city_df.sort_values(by='customer_count', ascending=False).head(10),\n",
        "    x='customer_count',\n",
        "    y='customer_city',\n",
        "    orient='h',\n",
        "    ax=ax,\n",
        "    palette=colors_\n",
        ")\n",
        "ax.set_title('Number Of Customers by City', loc='center', fontsize=20)\n",
        "ax.tick_params(axis='y', labelsize=12)\n",
        "ax.set_ylabel(None)\n",
        "\n",
        "plt.show()"
      ]
    },
    {
      "cell_type": "code",
      "execution_count": null,
      "metadata": {
        "colab": {
          "base_uri": "https://localhost:8080/",
          "height": 308
        },
        "id": "U5p7MFxtua-z",
        "outputId": "1c92d5b6-86c9-45ba-cc76-c9cb951f907a"
      },
      "outputs": [
        {
          "name": "stdout",
          "output_type": "stream",
          "text": [
            "<class 'pandas.core.frame.DataFrame'>\n",
            "RangeIndex: 112761 entries, 0 to 112760\n",
            "Data columns (total 18 columns):\n",
            " #   Column                         Non-Null Count   Dtype         \n",
            "---  ------                         --------------   -----         \n",
            " 0   order_id                       112761 non-null  object        \n",
            " 1   product_id                     112761 non-null  object        \n",
            " 2   seller_id                      112761 non-null  object        \n",
            " 3   price                          112761 non-null  float64       \n",
            " 4   product_category_name          112761 non-null  object        \n",
            " 5   product_category_name_english  112761 non-null  object        \n",
            " 6   customer_id                    112761 non-null  object        \n",
            " 7   order_status                   112761 non-null  object        \n",
            " 8   order_purchase_timestamp       112761 non-null  datetime64[ns]\n",
            " 9   review_id                      111836 non-null  object        \n",
            " 10  review_score                   111836 non-null  float64       \n",
            " 11  seller_zip_code_prefix         112761 non-null  int64         \n",
            " 12  seller_city                    112761 non-null  object        \n",
            " 13  seller_state                   112761 non-null  object        \n",
            " 14  customer_unique_id             112761 non-null  object        \n",
            " 15  customer_zip_code_prefix       112761 non-null  int64         \n",
            " 16  customer_city                  112761 non-null  object        \n",
            " 17  customer_state                 112761 non-null  object        \n",
            "dtypes: datetime64[ns](1), float64(2), int64(2), object(13)\n",
            "memory usage: 15.5+ MB\n"
          ]
        }
      ],
      "source": [
        "all_df.info()"
      ]
    },
    {
      "cell_type": "markdown",
      "metadata": {
        "id": "fPKdSj7v3ycO"
      },
      "source": [
        "## Conclusion"
      ]
    },
    {
      "cell_type": "markdown",
      "metadata": {
        "id": "Z3dKplnA31ne"
      },
      "source": [
        "- Pertanyaan 1:\n",
        "Terjadi kenaikan revenue yang signifikan mulai dari September 2016 s/d Mei 2018, namun terjadi penurunan sangat tajam pada September 2018. Hal tersebut dipengaruhi oleh jumlah sales yang juga mengalami penurunan sangat tajam.\n",
        "- Pertanyaan 2:\n",
        "Produk dengan performa terbaik diraih oleh produk dengan kategori Bed Bath Table dengan jumlah order lebih dari 8000 order dan produk dengan performa paling buruk diraih oleh produk dengan kategori Security & Services dimana jumlah penjualannya hanya sebesar 2 order selama 2 tahun.\n",
        "- Pertanyaan 3:\n",
        "Dengan menggunakan 3 parameter utama yakni Total order, Total Revenue, dan Review Score yang kemudian dilakukan standarisasi setiap nilainya dan diperoleh total score yang merupakan hasil penjumlahan nilai parameter yang sudah distandarisasi, diperoleh hasil skor tertinggi yang diraih oleh seller dengan id 4a3ca9315b744ce9f8e9374361493884\tsebagai seller dengan performa terbaik yang telah berhasil memperoleh total order lebih dari 1800 order, dengan revenue lebih dari USD 200 ribu dan rata-rata review score sebesar 3.8/5. Selanjutnya diperoleh juga seller dengan skor terendah sebagai seller dengan performa paling tidak memuaskan, dimana diperoleh total order hanya 1 order, total revenue sebesar kurang dari USD7 dan review score hanya sebesar 1/5.\n",
        "- Pertanyaan 4:\n",
        "Sao Paulo adalah Kota dengan Jumlah Seller terbanyak dimana total seller yang berada di kota Sao Paulo hampir mencapai angka 700 Seller. Sedangkan untuk setiap kota lainnya hanya terdiri kurang dari 150 seller.\n",
        "- Pertanyaan 5:\n",
        "Sao Paulo juga menjadi kota dengan jumlah customer paling banyak di antara kota-kota lainnya. Dimana terdapat lebih dari 15000 customer yang berlokasi di kota Sao Paulo."
      ]
    }
  ],
  "metadata": {
    "accelerator": "TPU",
    "colab": {
      "gpuType": "V28",
      "provenance": [],
      "toc_visible": true
    },
    "kernelspec": {
      "display_name": "Python 3",
      "name": "python3"
    },
    "language_info": {
      "codemirror_mode": {
        "name": "ipython",
        "version": 3
      },
      "file_extension": ".py",
      "mimetype": "text/x-python",
      "name": "python",
      "nbconvert_exporter": "python",
      "pygments_lexer": "ipython3",
      "version": "3.12.3"
    }
  },
  "nbformat": 4,
  "nbformat_minor": 0
}
